{
 "cells": [
  {
   "cell_type": "code",
   "execution_count": 762,
   "id": "e69c4ba1-85f3-4a02-ae37-c64347a01803",
   "metadata": {},
   "outputs": [],
   "source": [
    "#Import all relevant libraries\n",
    "import numpy as np\n",
    "import pandas as pd\n",
    "import matplotlib.pyplot as plt\n",
    "import seaborn as sns\n",
    "from scipy.stats import zscore\n",
    " \n",
    "## This statement allows the visuals to render within your Jupyter Notebook.\n",
    "%matplotlib inline"
   ]
  },
  {
   "cell_type": "code",
   "execution_count": 764,
   "id": "ec9b176f-3e4d-49f9-bdb8-8d4d9f0186b6",
   "metadata": {},
   "outputs": [],
   "source": [
    "# we will import this library to handle how the arabic characters display \n",
    "import arabic_reshaper \n",
    "# this function helps us in ordering the text as arabic lan is RTL\n",
    "from bidi.algorithm import get_display"
   ]
  },
  {
   "cell_type": "code",
   "execution_count": 766,
   "id": "4adbcdc2-2189-4303-85e4-b4c6d90bf2ab",
   "metadata": {},
   "outputs": [],
   "source": [
    "# for handling arabic text \n",
    "def arabic_text(text):\n",
    "    # reshaping here means that the input text for ex: ة ب ط ر ق will be taken and reshap the characters to be قرطبة\n",
    "    reshaped_text = arabic_reshaper.reshape(text)\n",
    "    # and here it will deal with the direction of the displaying arabic text as RTL\n",
    "    bidi_text = get_display(reshaped_text)\n",
    "    return bidi_text"
   ]
  },
  {
   "cell_type": "markdown",
   "id": "e395e8bf-b530-4720-8d0f-26811e927d6e",
   "metadata": {},
   "source": [
    "## Loading the data"
   ]
  },
  {
   "cell_type": "code",
   "execution_count": 769,
   "id": "cf4030b0-aa7f-4bd7-8e9c-c1b7f4d202d0",
   "metadata": {},
   "outputs": [],
   "source": [
    "df = pd.read_csv(r\"C:\\Users\\almal\\Desktop\\Jadarat_data.csv\")"
   ]
  },
  {
   "cell_type": "markdown",
   "id": "ca5ed983-0f72-43eb-8168-6fafd48c562e",
   "metadata": {},
   "source": [
    "### Viewing the dataframe"
   ]
  },
  {
   "cell_type": "code",
   "execution_count": 772,
   "id": "bfde0b69-613c-4dd1-8ebf-e4d2e570e653",
   "metadata": {},
   "outputs": [
    {
     "data": {
      "text/html": [
       "<div>\n",
       "<style scoped>\n",
       "    .dataframe tbody tr th:only-of-type {\n",
       "        vertical-align: middle;\n",
       "    }\n",
       "\n",
       "    .dataframe tbody tr th {\n",
       "        vertical-align: top;\n",
       "    }\n",
       "\n",
       "    .dataframe thead th {\n",
       "        text-align: right;\n",
       "    }\n",
       "</style>\n",
       "<table border=\"1\" class=\"dataframe\">\n",
       "  <thead>\n",
       "    <tr style=\"text-align: right;\">\n",
       "      <th></th>\n",
       "      <th>job_title</th>\n",
       "      <th>job_date</th>\n",
       "      <th>job_desc</th>\n",
       "      <th>job_tasks</th>\n",
       "      <th>comp_name</th>\n",
       "      <th>comp_no</th>\n",
       "      <th>comp_type</th>\n",
       "      <th>comp_size</th>\n",
       "      <th>eco_activity</th>\n",
       "      <th>qualif</th>\n",
       "      <th>region</th>\n",
       "      <th>city</th>\n",
       "      <th>benefits</th>\n",
       "      <th>contract</th>\n",
       "      <th>positions</th>\n",
       "      <th>job_post_id</th>\n",
       "      <th>exper</th>\n",
       "      <th>gender</th>\n",
       "    </tr>\n",
       "  </thead>\n",
       "  <tbody>\n",
       "    <tr>\n",
       "      <th>0</th>\n",
       "      <td>محاسب</td>\n",
       "      <td>27/05/1444</td>\n",
       "      <td>['إعداد وتنظيم مستندات الصرف ومتابعة تحصيل الإ...</td>\n",
       "      <td>['   تدقيق المطالبات المالية والتأكد من اكتمال...</td>\n",
       "      <td>شركة مقر العالم للسفريات</td>\n",
       "      <td>1-317262</td>\n",
       "      <td>خاص</td>\n",
       "      <td>متوسطة فئة أ</td>\n",
       "      <td>أنشطة وكالات السياحة والسفر</td>\n",
       "      <td>['Language data', 'اللغة الانجليزية', 'محترف']</td>\n",
       "      <td>الرياض</td>\n",
       "      <td>AR RIYADH...</td>\n",
       "      <td>['Salary', '5000.0']</td>\n",
       "      <td>دوام كامل</td>\n",
       "      <td>0 / 1</td>\n",
       "      <td>20202026350419</td>\n",
       "      <td>0 Years</td>\n",
       "      <td>both</td>\n",
       "    </tr>\n",
       "    <tr>\n",
       "      <th>1</th>\n",
       "      <td>بائع</td>\n",
       "      <td>27/05/1444</td>\n",
       "      <td>['بيع مجموعة من السلع والخدمات للعملاء، وتوفير...</td>\n",
       "      <td>['   بيع مجموعة من السلع والخدمات للعملاء.', '...</td>\n",
       "      <td>شركة عالم الكهرباء للمقاولات</td>\n",
       "      <td>4-1324428</td>\n",
       "      <td>خاص</td>\n",
       "      <td>متوسطة فئة ب</td>\n",
       "      <td>تركيب انظمة التبريد وتكييف الهواء وصيانتها واص...</td>\n",
       "      <td>NaN</td>\n",
       "      <td>المنطقة الشرقية</td>\n",
       "      <td>AD DAMMAM...</td>\n",
       "      <td>['Salary', '5000.0']</td>\n",
       "      <td>دوام كامل</td>\n",
       "      <td>0 / 3</td>\n",
       "      <td>20202026350389</td>\n",
       "      <td>0 Years</td>\n",
       "      <td>both</td>\n",
       "    </tr>\n",
       "    <tr>\n",
       "      <th>2</th>\n",
       "      <td>أخصائي عمليات موارد بشرية</td>\n",
       "      <td>27/05/1444</td>\n",
       "      <td>['تنفيذ الإجراءات والأنظمة والنماذج الخاصة بمر...</td>\n",
       "      <td>['   تنفيذ الإجراءات والأنظمة والنماذج الخاصة ...</td>\n",
       "      <td>شركه دار السلام</td>\n",
       "      <td>1-155294</td>\n",
       "      <td>خاص</td>\n",
       "      <td>متوسطة فئة أ</td>\n",
       "      <td>ترميمات المباني السكنية والغير سكنية</td>\n",
       "      <td>['Language data', 'الانجليزيه', 'محترف']</td>\n",
       "      <td>الرياض</td>\n",
       "      <td>ATH THUMA...</td>\n",
       "      <td>['Salary', '4000.0']</td>\n",
       "      <td>دوام كامل</td>\n",
       "      <td>0 / 2</td>\n",
       "      <td>20202026350347</td>\n",
       "      <td>2 Years</td>\n",
       "      <td>both</td>\n",
       "    </tr>\n",
       "    <tr>\n",
       "      <th>3</th>\n",
       "      <td>ميكانيكي سيارات</td>\n",
       "      <td>27/05/1444</td>\n",
       "      <td>['تشخيص أعطال السيارات وإصلاحها وتنفيذ برامج ا...</td>\n",
       "      <td>['   فحص أداء المعدّات الكهربائية والميكانيكية...</td>\n",
       "      <td>مؤسسة لمكو لغيار الزيوت</td>\n",
       "      <td>8-1925495</td>\n",
       "      <td>خاص</td>\n",
       "      <td>صغيرة فئة ب</td>\n",
       "      <td>NaN</td>\n",
       "      <td>['Skill data', 'صيانة السيارات وتقييم الاعطال'...</td>\n",
       "      <td>المنطقة الشرقية</td>\n",
       "      <td>AL HUFUF...</td>\n",
       "      <td>['Salary', '5000.0']</td>\n",
       "      <td>دوام كامل</td>\n",
       "      <td>0 / 10</td>\n",
       "      <td>20202026350219</td>\n",
       "      <td>0 Years</td>\n",
       "      <td>M</td>\n",
       "    </tr>\n",
       "    <tr>\n",
       "      <th>4</th>\n",
       "      <td>محاسب</td>\n",
       "      <td>27/05/1444</td>\n",
       "      <td>['إعداد وتنظيم مستندات الصرف ومتابعة تحصيل الإ...</td>\n",
       "      <td>['   تدقيق المطالبات المالية والتأكد من اكتمال...</td>\n",
       "      <td>مؤسسة فكرة اليمامة للمقاولات</td>\n",
       "      <td>1-2356639</td>\n",
       "      <td>خاص</td>\n",
       "      <td>كبيرة</td>\n",
       "      <td>الإنشاءات العامة للمباني السكنية</td>\n",
       "      <td>['Skill data', 'تحمل ضغط العمل', 'محترف', 'Lan...</td>\n",
       "      <td>الرياض</td>\n",
       "      <td>AR RIYADH...</td>\n",
       "      <td>['Salary', '5000.0']</td>\n",
       "      <td>دوام كامل</td>\n",
       "      <td>0 / 1</td>\n",
       "      <td>20202026350043</td>\n",
       "      <td>0 Years</td>\n",
       "      <td>both</td>\n",
       "    </tr>\n",
       "    <tr>\n",
       "      <th>...</th>\n",
       "      <td>...</td>\n",
       "      <td>...</td>\n",
       "      <td>...</td>\n",
       "      <td>...</td>\n",
       "      <td>...</td>\n",
       "      <td>...</td>\n",
       "      <td>...</td>\n",
       "      <td>...</td>\n",
       "      <td>...</td>\n",
       "      <td>...</td>\n",
       "      <td>...</td>\n",
       "      <td>...</td>\n",
       "      <td>...</td>\n",
       "      <td>...</td>\n",
       "      <td>...</td>\n",
       "      <td>...</td>\n",
       "      <td>...</td>\n",
       "      <td>...</td>\n",
       "    </tr>\n",
       "    <tr>\n",
       "      <th>1465</th>\n",
       "      <td>مهندس تقنية معلومات</td>\n",
       "      <td>19/06/1444</td>\n",
       "      <td>['دراسة احتياجات العميل من الأجهزة الحاسوبية و...</td>\n",
       "      <td>['   متابعة وتقييم عملية جمع وتحليل المعطيات و...</td>\n",
       "      <td>مطعم الاوراق الخضر لتقديم الوجبات</td>\n",
       "      <td>15-1698448</td>\n",
       "      <td>خاص</td>\n",
       "      <td>صغيرة فئة ب</td>\n",
       "      <td>المطاعم مع الخدمة</td>\n",
       "      <td>NaN</td>\n",
       "      <td>الرياض</td>\n",
       "      <td>AR RIYADH...</td>\n",
       "      <td>['Salary', '5500.0']</td>\n",
       "      <td>دوام كامل</td>\n",
       "      <td>0 / 1</td>\n",
       "      <td>20202026400353</td>\n",
       "      <td>0 Years</td>\n",
       "      <td>both</td>\n",
       "    </tr>\n",
       "    <tr>\n",
       "      <th>1466</th>\n",
       "      <td>سكرتير</td>\n",
       "      <td>19/06/1444</td>\n",
       "      <td>['دعم المدير أو الإدارة من خلال كتابة الوثائق ...</td>\n",
       "      <td>['   تدوين الملاحظات، التي يتم إملاؤها، بطريقة...</td>\n",
       "      <td>شركة ملتقى التجار لحاضنات و مسرعات الأعمال</td>\n",
       "      <td>9-2013930</td>\n",
       "      <td>خاص</td>\n",
       "      <td>صغيرة فئة ب</td>\n",
       "      <td>أنشطة حاضنات ومسرعات الأعمال</td>\n",
       "      <td>['Skill data', 'فن التواصل', 'محترف', 'Languag...</td>\n",
       "      <td>مكة المكرمة</td>\n",
       "      <td>JEDDAH...</td>\n",
       "      <td>['Salary', '4000.0']</td>\n",
       "      <td>دوام كامل</td>\n",
       "      <td>0 / 1</td>\n",
       "      <td>20202026399849</td>\n",
       "      <td>2 Years</td>\n",
       "      <td>both</td>\n",
       "    </tr>\n",
       "    <tr>\n",
       "      <th>1467</th>\n",
       "      <td>صيدلي</td>\n",
       "      <td>18/06/1444</td>\n",
       "      <td>['دراسة التركيبات الدوائية للعقاقير والعلاجات ...</td>\n",
       "      <td>['   دراسة مواصفات وتركيبات الادوية والعقاقير ...</td>\n",
       "      <td>شركة تقنية الدواجن والألبان للتجارة</td>\n",
       "      <td>1-2415250</td>\n",
       "      <td>خاص</td>\n",
       "      <td>صغيرة فئة ب</td>\n",
       "      <td>NaN</td>\n",
       "      <td>['Professional certificate \\\\ License data', '...</td>\n",
       "      <td>الرياض</td>\n",
       "      <td>AR RIYADH...</td>\n",
       "      <td>['Salary', '7000.0']</td>\n",
       "      <td>دوام كامل</td>\n",
       "      <td>0 / 1</td>\n",
       "      <td>20202026399061</td>\n",
       "      <td>0 Years</td>\n",
       "      <td>both</td>\n",
       "    </tr>\n",
       "    <tr>\n",
       "      <th>1468</th>\n",
       "      <td>مشغل آلة تشطيب رخام</td>\n",
       "      <td>18/06/1444</td>\n",
       "      <td>['تشغيل آلة تشطيب الرخام وابعادء الأجزاء المتف...</td>\n",
       "      <td>['   تسوية الرخام بواسطة أقراص الألماس الحديدي...</td>\n",
       "      <td>مصنع عبدالرحمن بن محمد بن عبدالعزيز العبدالقاد...</td>\n",
       "      <td>15-1971895</td>\n",
       "      <td>خاص</td>\n",
       "      <td>صغيرة فئة أ</td>\n",
       "      <td>NaN</td>\n",
       "      <td>['Skill data', 'متقن للعمل وشغوف ويرغب بالتطور...</td>\n",
       "      <td>المنطقة الشرقية</td>\n",
       "      <td>AL KHUBAR...</td>\n",
       "      <td>['Salary', '4000.0', 'Benefits', 'اجازة سنوية ...</td>\n",
       "      <td>دوام كامل</td>\n",
       "      <td>0 / 3</td>\n",
       "      <td>20202026398972</td>\n",
       "      <td>0 Years</td>\n",
       "      <td>M</td>\n",
       "    </tr>\n",
       "    <tr>\n",
       "      <th>1469</th>\n",
       "      <td>صيدلي</td>\n",
       "      <td>18/06/1444</td>\n",
       "      <td>['دراسة التركيبات الدوائية للعقاقير والعلاجات ...</td>\n",
       "      <td>['   دراسة مواصفات وتركيبات الادوية والعقاقير ...</td>\n",
       "      <td>شركة تقنية الدواجن والألبان للتجارة</td>\n",
       "      <td>1-2415250</td>\n",
       "      <td>خاص</td>\n",
       "      <td>صغيرة فئة ب</td>\n",
       "      <td>NaN</td>\n",
       "      <td>['Professional certificate \\\\ License data', '...</td>\n",
       "      <td>الرياض</td>\n",
       "      <td>AR RIYADH...</td>\n",
       "      <td>['Salary', '7000.0']</td>\n",
       "      <td>دوام كامل</td>\n",
       "      <td>0 / 1</td>\n",
       "      <td>20202026399061</td>\n",
       "      <td>0 Years</td>\n",
       "      <td>both</td>\n",
       "    </tr>\n",
       "  </tbody>\n",
       "</table>\n",
       "<p>1470 rows × 18 columns</p>\n",
       "</div>"
      ],
      "text/plain": [
       "                      job_title    job_date  \\\n",
       "0                         محاسب  27/05/1444   \n",
       "1                          بائع  27/05/1444   \n",
       "2     أخصائي عمليات موارد بشرية  27/05/1444   \n",
       "3               ميكانيكي سيارات  27/05/1444   \n",
       "4                         محاسب  27/05/1444   \n",
       "...                         ...         ...   \n",
       "1465        مهندس تقنية معلومات  19/06/1444   \n",
       "1466                     سكرتير  19/06/1444   \n",
       "1467                      صيدلي  18/06/1444   \n",
       "1468        مشغل آلة تشطيب رخام  18/06/1444   \n",
       "1469                      صيدلي  18/06/1444   \n",
       "\n",
       "                                               job_desc  \\\n",
       "0     ['إعداد وتنظيم مستندات الصرف ومتابعة تحصيل الإ...   \n",
       "1     ['بيع مجموعة من السلع والخدمات للعملاء، وتوفير...   \n",
       "2     ['تنفيذ الإجراءات والأنظمة والنماذج الخاصة بمر...   \n",
       "3     ['تشخيص أعطال السيارات وإصلاحها وتنفيذ برامج ا...   \n",
       "4     ['إعداد وتنظيم مستندات الصرف ومتابعة تحصيل الإ...   \n",
       "...                                                 ...   \n",
       "1465  ['دراسة احتياجات العميل من الأجهزة الحاسوبية و...   \n",
       "1466  ['دعم المدير أو الإدارة من خلال كتابة الوثائق ...   \n",
       "1467  ['دراسة التركيبات الدوائية للعقاقير والعلاجات ...   \n",
       "1468  ['تشغيل آلة تشطيب الرخام وابعادء الأجزاء المتف...   \n",
       "1469  ['دراسة التركيبات الدوائية للعقاقير والعلاجات ...   \n",
       "\n",
       "                                              job_tasks  \\\n",
       "0     ['   تدقيق المطالبات المالية والتأكد من اكتمال...   \n",
       "1     ['   بيع مجموعة من السلع والخدمات للعملاء.', '...   \n",
       "2     ['   تنفيذ الإجراءات والأنظمة والنماذج الخاصة ...   \n",
       "3     ['   فحص أداء المعدّات الكهربائية والميكانيكية...   \n",
       "4     ['   تدقيق المطالبات المالية والتأكد من اكتمال...   \n",
       "...                                                 ...   \n",
       "1465  ['   متابعة وتقييم عملية جمع وتحليل المعطيات و...   \n",
       "1466  ['   تدوين الملاحظات، التي يتم إملاؤها، بطريقة...   \n",
       "1467  ['   دراسة مواصفات وتركيبات الادوية والعقاقير ...   \n",
       "1468  ['   تسوية الرخام بواسطة أقراص الألماس الحديدي...   \n",
       "1469  ['   دراسة مواصفات وتركيبات الادوية والعقاقير ...   \n",
       "\n",
       "                                              comp_name     comp_no comp_type  \\\n",
       "0                              شركة مقر العالم للسفريات    1-317262       خاص   \n",
       "1                          شركة عالم الكهرباء للمقاولات   4-1324428       خاص   \n",
       "2                                       شركه دار السلام    1-155294       خاص   \n",
       "3                               مؤسسة لمكو لغيار الزيوت   8-1925495       خاص   \n",
       "4                          مؤسسة فكرة اليمامة للمقاولات   1-2356639       خاص   \n",
       "...                                                 ...         ...       ...   \n",
       "1465                  مطعم الاوراق الخضر لتقديم الوجبات  15-1698448       خاص   \n",
       "1466         شركة ملتقى التجار لحاضنات و مسرعات الأعمال   9-2013930       خاص   \n",
       "1467                شركة تقنية الدواجن والألبان للتجارة   1-2415250       خاص   \n",
       "1468  مصنع عبدالرحمن بن محمد بن عبدالعزيز العبدالقاد...  15-1971895       خاص   \n",
       "1469                شركة تقنية الدواجن والألبان للتجارة   1-2415250       خاص   \n",
       "\n",
       "         comp_size                                       eco_activity  \\\n",
       "0     متوسطة فئة أ                        أنشطة وكالات السياحة والسفر   \n",
       "1     متوسطة فئة ب  تركيب انظمة التبريد وتكييف الهواء وصيانتها واص...   \n",
       "2     متوسطة فئة أ               ترميمات المباني السكنية والغير سكنية   \n",
       "3      صغيرة فئة ب                                                NaN   \n",
       "4            كبيرة                   الإنشاءات العامة للمباني السكنية   \n",
       "...            ...                                                ...   \n",
       "1465   صغيرة فئة ب                                  المطاعم مع الخدمة   \n",
       "1466   صغيرة فئة ب                       أنشطة حاضنات ومسرعات الأعمال   \n",
       "1467   صغيرة فئة ب                                                NaN   \n",
       "1468   صغيرة فئة أ                                                NaN   \n",
       "1469   صغيرة فئة ب                                                NaN   \n",
       "\n",
       "                                                 qualif           region  \\\n",
       "0        ['Language data', 'اللغة الانجليزية', 'محترف']           الرياض   \n",
       "1                                                   NaN  المنطقة الشرقية   \n",
       "2              ['Language data', 'الانجليزيه', 'محترف']           الرياض   \n",
       "3     ['Skill data', 'صيانة السيارات وتقييم الاعطال'...  المنطقة الشرقية   \n",
       "4     ['Skill data', 'تحمل ضغط العمل', 'محترف', 'Lan...           الرياض   \n",
       "...                                                 ...              ...   \n",
       "1465                                                NaN           الرياض   \n",
       "1466  ['Skill data', 'فن التواصل', 'محترف', 'Languag...      مكة المكرمة   \n",
       "1467  ['Professional certificate \\\\ License data', '...           الرياض   \n",
       "1468  ['Skill data', 'متقن للعمل وشغوف ويرغب بالتطور...  المنطقة الشرقية   \n",
       "1469  ['Professional certificate \\\\ License data', '...           الرياض   \n",
       "\n",
       "              city                                           benefits  \\\n",
       "0     AR RIYADH...                               ['Salary', '5000.0']   \n",
       "1     AD DAMMAM...                               ['Salary', '5000.0']   \n",
       "2     ATH THUMA...                               ['Salary', '4000.0']   \n",
       "3      AL HUFUF...                               ['Salary', '5000.0']   \n",
       "4     AR RIYADH...                               ['Salary', '5000.0']   \n",
       "...            ...                                                ...   \n",
       "1465  AR RIYADH...                               ['Salary', '5500.0']   \n",
       "1466     JEDDAH...                               ['Salary', '4000.0']   \n",
       "1467  AR RIYADH...                               ['Salary', '7000.0']   \n",
       "1468  AL KHUBAR...  ['Salary', '4000.0', 'Benefits', 'اجازة سنوية ...   \n",
       "1469  AR RIYADH...                               ['Salary', '7000.0']   \n",
       "\n",
       "       contract positions     job_post_id    exper gender  \n",
       "0     دوام كامل     0 / 1  20202026350419  0 Years   both  \n",
       "1     دوام كامل     0 / 3  20202026350389  0 Years   both  \n",
       "2     دوام كامل     0 / 2  20202026350347  2 Years   both  \n",
       "3     دوام كامل    0 / 10  20202026350219  0 Years      M  \n",
       "4     دوام كامل     0 / 1  20202026350043  0 Years   both  \n",
       "...         ...       ...             ...      ...    ...  \n",
       "1465  دوام كامل     0 / 1  20202026400353  0 Years   both  \n",
       "1466  دوام كامل     0 / 1  20202026399849  2 Years   both  \n",
       "1467  دوام كامل     0 / 1  20202026399061  0 Years   both  \n",
       "1468  دوام كامل     0 / 3  20202026398972  0 Years      M  \n",
       "1469  دوام كامل     0 / 1  20202026399061  0 Years   both  \n",
       "\n",
       "[1470 rows x 18 columns]"
      ]
     },
     "execution_count": 772,
     "metadata": {},
     "output_type": "execute_result"
    }
   ],
   "source": [
    "df"
   ]
  },
  {
   "cell_type": "markdown",
   "id": "bd2b5bc4-db37-4432-b666-0714afd0c4ca",
   "metadata": {},
   "source": [
    "## 1. Data Profiling:"
   ]
  },
  {
   "cell_type": "code",
   "execution_count": 775,
   "id": "672f2081-5a2c-4908-8cbd-29519fb3cac5",
   "metadata": {},
   "outputs": [
    {
     "data": {
      "text/plain": [
       "(1470, 18)"
      ]
     },
     "execution_count": 775,
     "metadata": {},
     "output_type": "execute_result"
    }
   ],
   "source": [
    "df.shape"
   ]
  },
  {
   "cell_type": "code",
   "execution_count": 777,
   "id": "3d7b99de-ae2b-449e-ab56-0aa88c8e890f",
   "metadata": {},
   "outputs": [
    {
     "name": "stdout",
     "output_type": "stream",
     "text": [
      "<class 'pandas.core.frame.DataFrame'>\n",
      "RangeIndex: 1470 entries, 0 to 1469\n",
      "Data columns (total 18 columns):\n",
      " #   Column        Non-Null Count  Dtype \n",
      "---  ------        --------------  ----- \n",
      " 0   job_title     1470 non-null   object\n",
      " 1   job_date      1470 non-null   object\n",
      " 2   job_desc      1470 non-null   object\n",
      " 3   job_tasks     1470 non-null   object\n",
      " 4   comp_name     1470 non-null   object\n",
      " 5   comp_no       1470 non-null   object\n",
      " 6   comp_type     1470 non-null   object\n",
      " 7   comp_size     1456 non-null   object\n",
      " 8   eco_activity  1380 non-null   object\n",
      " 9   qualif        780 non-null    object\n",
      " 10  region        1470 non-null   object\n",
      " 11  city          1470 non-null   object\n",
      " 12  benefits      1470 non-null   object\n",
      " 13  contract      1470 non-null   object\n",
      " 14  positions     1470 non-null   object\n",
      " 15  job_post_id   1470 non-null   int64 \n",
      " 16  exper         1470 non-null   object\n",
      " 17  gender        1470 non-null   object\n",
      "dtypes: int64(1), object(17)\n",
      "memory usage: 206.8+ KB\n"
     ]
    }
   ],
   "source": [
    "df.info()"
   ]
  },
  {
   "cell_type": "code",
   "execution_count": 779,
   "id": "41f95c68-befa-4207-a136-e1f3f3da9ca9",
   "metadata": {},
   "outputs": [
    {
     "data": {
      "text/html": [
       "<div>\n",
       "<style scoped>\n",
       "    .dataframe tbody tr th:only-of-type {\n",
       "        vertical-align: middle;\n",
       "    }\n",
       "\n",
       "    .dataframe tbody tr th {\n",
       "        vertical-align: top;\n",
       "    }\n",
       "\n",
       "    .dataframe thead th {\n",
       "        text-align: right;\n",
       "    }\n",
       "</style>\n",
       "<table border=\"1\" class=\"dataframe\">\n",
       "  <thead>\n",
       "    <tr style=\"text-align: right;\">\n",
       "      <th></th>\n",
       "      <th>job_post_id</th>\n",
       "    </tr>\n",
       "  </thead>\n",
       "  <tbody>\n",
       "    <tr>\n",
       "      <th>count</th>\n",
       "      <td>1.470000e+03</td>\n",
       "    </tr>\n",
       "    <tr>\n",
       "      <th>mean</th>\n",
       "      <td>2.020203e+13</td>\n",
       "    </tr>\n",
       "    <tr>\n",
       "      <th>std</th>\n",
       "      <td>5.863941e+04</td>\n",
       "    </tr>\n",
       "    <tr>\n",
       "      <th>min</th>\n",
       "      <td>2.020203e+13</td>\n",
       "    </tr>\n",
       "    <tr>\n",
       "      <th>25%</th>\n",
       "      <td>2.020203e+13</td>\n",
       "    </tr>\n",
       "    <tr>\n",
       "      <th>50%</th>\n",
       "      <td>2.020203e+13</td>\n",
       "    </tr>\n",
       "    <tr>\n",
       "      <th>75%</th>\n",
       "      <td>2.020203e+13</td>\n",
       "    </tr>\n",
       "    <tr>\n",
       "      <th>max</th>\n",
       "      <td>2.020203e+13</td>\n",
       "    </tr>\n",
       "  </tbody>\n",
       "</table>\n",
       "</div>"
      ],
      "text/plain": [
       "        job_post_id\n",
       "count  1.470000e+03\n",
       "mean   2.020203e+13\n",
       "std    5.863941e+04\n",
       "min    2.020203e+13\n",
       "25%    2.020203e+13\n",
       "50%    2.020203e+13\n",
       "75%    2.020203e+13\n",
       "max    2.020203e+13"
      ]
     },
     "execution_count": 779,
     "metadata": {},
     "output_type": "execute_result"
    }
   ],
   "source": [
    "df.describe()"
   ]
  },
  {
   "cell_type": "code",
   "execution_count": 781,
   "id": "e06302f2-e1d8-469e-868d-b8adc9920877",
   "metadata": {},
   "outputs": [
    {
     "data": {
      "text/plain": [
       "Index(['job_title', 'job_date', 'job_desc', 'job_tasks', 'comp_name',\n",
       "       'comp_no', 'comp_type', 'comp_size', 'eco_activity', 'qualif', 'region',\n",
       "       'city', 'benefits', 'contract', 'positions', 'job_post_id', 'exper',\n",
       "       'gender'],\n",
       "      dtype='object')"
      ]
     },
     "execution_count": 781,
     "metadata": {},
     "output_type": "execute_result"
    }
   ],
   "source": [
    "df.columns"
   ]
  },
  {
   "cell_type": "markdown",
   "id": "3a9954f5-6fbc-45b4-ad86-3e21b6e0ca2d",
   "metadata": {},
   "source": [
    "### Data Quality Checks\n",
    "\n",
    "**Here are typical steps involved in checking data quality:**"
   ]
  },
  {
   "cell_type": "markdown",
   "id": "4818c876-173d-4e56-9e7d-b4334d2def25",
   "metadata": {},
   "source": [
    "#### 1. Reliability:"
   ]
  },
  {
   "cell_type": "code",
   "execution_count": 785,
   "id": "9034ae7b-dc1d-4cba-8f9e-bb499d021cde",
   "metadata": {},
   "outputs": [],
   "source": [
    "#It is turstworthy."
   ]
  },
  {
   "cell_type": "markdown",
   "id": "2ce0cc59-8c92-4acc-8d07-c40764e1a86b",
   "metadata": {},
   "source": [
    "#### 2. Timeliness: "
   ]
  },
  {
   "cell_type": "code",
   "execution_count": 788,
   "id": "4b78ae35-7226-4cb6-b8b2-a46c2ed17cf9",
   "metadata": {},
   "outputs": [],
   "source": [
    "#For our quistions its Timeliness."
   ]
  },
  {
   "cell_type": "markdown",
   "id": "7fab0fe2-6624-4615-b9d8-3c3669056bf8",
   "metadata": {},
   "source": [
    "#### 3. Consistency: "
   ]
  },
  {
   "cell_type": "code",
   "execution_count": 791,
   "id": "7fecc573-959f-4800-8ddd-a67985c68b18",
   "metadata": {},
   "outputs": [],
   "source": [
    "# It's consistenc."
   ]
  },
  {
   "cell_type": "markdown",
   "id": "bec3d183-bba0-4b12-b963-487daab1e876",
   "metadata": {},
   "source": [
    "#### 4. Relevance: \n"
   ]
  },
  {
   "cell_type": "code",
   "execution_count": 794,
   "id": "4b39cc34-0cf6-4ea9-a072-9ad062190f53",
   "metadata": {},
   "outputs": [],
   "source": [
    "#1. Sample Appropriateness: it is a sample Appropriateness."
   ]
  },
  {
   "cell_type": "code",
   "execution_count": 796,
   "id": "50a934b7-a0cd-443f-8a27-f10e9a6e8647",
   "metadata": {
    "scrolled": true
   },
   "outputs": [],
   "source": [
    "#2. Variable Selection: dropping the jop date column as its not related to the further analysis\n",
    "df.drop(['job_date'] ,axis=1,inplace=True)"
   ]
  },
  {
   "cell_type": "markdown",
   "id": "0f5e3a2a-bbb7-4d06-8220-c93277b70146",
   "metadata": {},
   "source": [
    "#### 5. Uniqueness: \n"
   ]
  },
  {
   "cell_type": "code",
   "execution_count": 799,
   "id": "a509a7aa-58f4-4d39-8eb8-e8298a21f2a7",
   "metadata": {},
   "outputs": [
    {
     "data": {
      "text/html": [
       "<div>\n",
       "<style scoped>\n",
       "    .dataframe tbody tr th:only-of-type {\n",
       "        vertical-align: middle;\n",
       "    }\n",
       "\n",
       "    .dataframe tbody tr th {\n",
       "        vertical-align: top;\n",
       "    }\n",
       "\n",
       "    .dataframe thead th {\n",
       "        text-align: right;\n",
       "    }\n",
       "</style>\n",
       "<table border=\"1\" class=\"dataframe\">\n",
       "  <thead>\n",
       "    <tr style=\"text-align: right;\">\n",
       "      <th></th>\n",
       "      <th>job_title</th>\n",
       "      <th>job_desc</th>\n",
       "      <th>job_tasks</th>\n",
       "      <th>comp_name</th>\n",
       "      <th>comp_no</th>\n",
       "      <th>comp_type</th>\n",
       "      <th>comp_size</th>\n",
       "      <th>eco_activity</th>\n",
       "      <th>qualif</th>\n",
       "      <th>region</th>\n",
       "      <th>city</th>\n",
       "      <th>benefits</th>\n",
       "      <th>contract</th>\n",
       "      <th>positions</th>\n",
       "      <th>job_post_id</th>\n",
       "      <th>exper</th>\n",
       "      <th>gender</th>\n",
       "    </tr>\n",
       "  </thead>\n",
       "  <tbody>\n",
       "    <tr>\n",
       "      <th>866</th>\n",
       "      <td>موظف استقبال فندق</td>\n",
       "      <td>['الإشراف على خدمات الضيوف في مكتب الاستقبال، ...</td>\n",
       "      <td>['   الحفاظ على قائمة الحجوزات، وتوفير السجلات...</td>\n",
       "      <td>فندق صفوة الغفران الفندقية</td>\n",
       "      <td>13-84812</td>\n",
       "      <td>خاص</td>\n",
       "      <td>متوسطة فئة ب</td>\n",
       "      <td>NaN</td>\n",
       "      <td>['Language data', 'الانجليزية', 'متوسط']</td>\n",
       "      <td>مكة المكرمة</td>\n",
       "      <td>MAKKAH AL...</td>\n",
       "      <td>['Salary', '4000.0']</td>\n",
       "      <td>دوام كامل</td>\n",
       "      <td>0 / 3</td>\n",
       "      <td>20202026375557</td>\n",
       "      <td>0 Years</td>\n",
       "      <td>M</td>\n",
       "    </tr>\n",
       "    <tr>\n",
       "      <th>867</th>\n",
       "      <td>أخصائي علاج طبيعي</td>\n",
       "      <td>['دراسة وتحليل الحالة المرضية ووضع خطة وبرنامج...</td>\n",
       "      <td>['   دراسة وتحليل برنامج المعالجة الطبيعية الم...</td>\n",
       "      <td>مركز رضوى للحجامة</td>\n",
       "      <td>14-1709089</td>\n",
       "      <td>خاص</td>\n",
       "      <td>صغيرة فئة أ</td>\n",
       "      <td>الخدمات الطبية بالمصحات المتخصصة ومراكز إعادة ...</td>\n",
       "      <td>NaN</td>\n",
       "      <td>المدينة المنورة</td>\n",
       "      <td>YANBU AL ...</td>\n",
       "      <td>['Salary', '5000.0']</td>\n",
       "      <td>دوام كامل</td>\n",
       "      <td>0 / 3</td>\n",
       "      <td>20202026375503</td>\n",
       "      <td>0 Years</td>\n",
       "      <td>both</td>\n",
       "    </tr>\n",
       "    <tr>\n",
       "      <th>868</th>\n",
       "      <td>أخصائي علاج طبيعي</td>\n",
       "      <td>['دراسة وتحليل الحالة المرضية ووضع خطة وبرنامج...</td>\n",
       "      <td>['   دراسة وتحليل برنامج المعالجة الطبيعية الم...</td>\n",
       "      <td>مركز سكاكا الجوف للحجامة</td>\n",
       "      <td>25-1952621</td>\n",
       "      <td>خاص</td>\n",
       "      <td>صغيرة فئة أ</td>\n",
       "      <td>مراكز الطب البديل والتكميلي</td>\n",
       "      <td>NaN</td>\n",
       "      <td>الجوف</td>\n",
       "      <td>SAKAKA...</td>\n",
       "      <td>['Salary', '5000.0']</td>\n",
       "      <td>دوام كامل</td>\n",
       "      <td>0 / 2</td>\n",
       "      <td>20202026375465</td>\n",
       "      <td>0 Years</td>\n",
       "      <td>both</td>\n",
       "    </tr>\n",
       "    <tr>\n",
       "      <th>869</th>\n",
       "      <td>مدير إداري</td>\n",
       "      <td>['The Project Manager (PM) are the responsible...</td>\n",
       "      <td>['The Project Manager (PM) are the responsible...</td>\n",
       "      <td>شـركة سفاري مساهمه مقفله</td>\n",
       "      <td>1-4430</td>\n",
       "      <td>خاص</td>\n",
       "      <td>عملاقة</td>\n",
       "      <td>تركيب انظمة التبريد وتكييف الهواء وصيانتها واص...</td>\n",
       "      <td>['Skill data', 'التخطيط الاستراتيجي', 'محترف',...</td>\n",
       "      <td>الرياض</td>\n",
       "      <td>AR RIYADH...</td>\n",
       "      <td>['Salary', '8000.0', 'Benefits', 'الراتب من 80...</td>\n",
       "      <td>دوام كامل</td>\n",
       "      <td>0 / 1</td>\n",
       "      <td>20202026375235</td>\n",
       "      <td>4 Years</td>\n",
       "      <td>both</td>\n",
       "    </tr>\n",
       "    <tr>\n",
       "      <th>873</th>\n",
       "      <td>مشرف صيانة</td>\n",
       "      <td>['إعداد خطة وبرنامج العمل، ومتابعة إجراءات تحد...</td>\n",
       "      <td>['   متابعة إجراءات تحديد نوع وطبيعة الصيانة و...</td>\n",
       "      <td>مؤسسة عواطف عبدالله حسين قطان للمقاولات العامة</td>\n",
       "      <td>12-1876162</td>\n",
       "      <td>خاص</td>\n",
       "      <td>صغيرة فئة أ</td>\n",
       "      <td>أنشطة خدمات صيانة المباني</td>\n",
       "      <td>NaN</td>\n",
       "      <td>مكة المكرمة</td>\n",
       "      <td>AT TAIF...</td>\n",
       "      <td>['Salary', '4000.0']</td>\n",
       "      <td>دوام كامل</td>\n",
       "      <td>0 / 1</td>\n",
       "      <td>20202026374934</td>\n",
       "      <td>0 Years</td>\n",
       "      <td>M</td>\n",
       "    </tr>\n",
       "    <tr>\n",
       "      <th>...</th>\n",
       "      <td>...</td>\n",
       "      <td>...</td>\n",
       "      <td>...</td>\n",
       "      <td>...</td>\n",
       "      <td>...</td>\n",
       "      <td>...</td>\n",
       "      <td>...</td>\n",
       "      <td>...</td>\n",
       "      <td>...</td>\n",
       "      <td>...</td>\n",
       "      <td>...</td>\n",
       "      <td>...</td>\n",
       "      <td>...</td>\n",
       "      <td>...</td>\n",
       "      <td>...</td>\n",
       "      <td>...</td>\n",
       "      <td>...</td>\n",
       "    </tr>\n",
       "    <tr>\n",
       "      <th>1157</th>\n",
       "      <td>عامل كاونتر مأكولات ومشروبات</td>\n",
       "      <td>['تحضير وتقديم  الطعام والشراب في الأماكن العا...</td>\n",
       "      <td>['   تحضير المشروبات الساخنة والباردة للعملاء'...</td>\n",
       "      <td>مؤسسة قدور نجد لخدمات الاعاشة</td>\n",
       "      <td>1-2173101</td>\n",
       "      <td>خاص</td>\n",
       "      <td>متوسطة فئة ب</td>\n",
       "      <td>محلات الوجبات السريعة ( تشمل محلات البيتزاء )</td>\n",
       "      <td>NaN</td>\n",
       "      <td>الرياض</td>\n",
       "      <td>AR RIYADH...</td>\n",
       "      <td>['Salary', '4000.0']</td>\n",
       "      <td>دوام كامل</td>\n",
       "      <td>0 / 5</td>\n",
       "      <td>20202026373486</td>\n",
       "      <td>0 Years</td>\n",
       "      <td>both</td>\n",
       "    </tr>\n",
       "    <tr>\n",
       "      <th>1158</th>\n",
       "      <td>مندوب مشتريات</td>\n",
       "      <td>['شراء المواد والسلع عن طريق الشراء المباشر، و...</td>\n",
       "      <td>['   دراسة طلبات الشراء في الجهة المعنية وتدقي...</td>\n",
       "      <td>شركة بشار محمد قطامش للمقاولات شركة الشخص الواحد</td>\n",
       "      <td>1-228552</td>\n",
       "      <td>خاص</td>\n",
       "      <td>متوسطة فئة أ</td>\n",
       "      <td>ترميمات المباني السكنية والغير سكنية</td>\n",
       "      <td>['Language data', 'الانجليزية', 'متوسط']</td>\n",
       "      <td>الرياض</td>\n",
       "      <td>AR RIYADH...</td>\n",
       "      <td>['Salary', '4000.0']</td>\n",
       "      <td>دوام كامل</td>\n",
       "      <td>0 / 1</td>\n",
       "      <td>20202026373225</td>\n",
       "      <td>0 Years</td>\n",
       "      <td>both</td>\n",
       "    </tr>\n",
       "    <tr>\n",
       "      <th>1383</th>\n",
       "      <td>مدير مقهى</td>\n",
       "      <td>['تخطيط عمليات المقهى أو ما يماثلها من الأماكن...</td>\n",
       "      <td>['   إدارة عملية تخطيط وتقديم الأطعمة والمشروب...</td>\n",
       "      <td>مؤسسة اسياف لتقديم المشروبات</td>\n",
       "      <td>12-1959550</td>\n",
       "      <td>خاص</td>\n",
       "      <td>صغيرة فئة أ</td>\n",
       "      <td>بيع الأغذية والمشروبات بالتجزئة في الأكشاك وال...</td>\n",
       "      <td>['Skill data', 'الرسم على القهوة', 'محترف', 'L...</td>\n",
       "      <td>مكة المكرمة</td>\n",
       "      <td>AL HALQAH...</td>\n",
       "      <td>['Salary', '4000.0']</td>\n",
       "      <td>دوام كامل</td>\n",
       "      <td>0 / 1</td>\n",
       "      <td>20202026376997</td>\n",
       "      <td>2 Years</td>\n",
       "      <td>both</td>\n",
       "    </tr>\n",
       "    <tr>\n",
       "      <th>1467</th>\n",
       "      <td>صيدلي</td>\n",
       "      <td>['دراسة التركيبات الدوائية للعقاقير والعلاجات ...</td>\n",
       "      <td>['   دراسة مواصفات وتركيبات الادوية والعقاقير ...</td>\n",
       "      <td>شركة تقنية الدواجن والألبان للتجارة</td>\n",
       "      <td>1-2415250</td>\n",
       "      <td>خاص</td>\n",
       "      <td>صغيرة فئة ب</td>\n",
       "      <td>NaN</td>\n",
       "      <td>['Professional certificate \\\\ License data', '...</td>\n",
       "      <td>الرياض</td>\n",
       "      <td>AR RIYADH...</td>\n",
       "      <td>['Salary', '7000.0']</td>\n",
       "      <td>دوام كامل</td>\n",
       "      <td>0 / 1</td>\n",
       "      <td>20202026399061</td>\n",
       "      <td>0 Years</td>\n",
       "      <td>both</td>\n",
       "    </tr>\n",
       "    <tr>\n",
       "      <th>1469</th>\n",
       "      <td>صيدلي</td>\n",
       "      <td>['دراسة التركيبات الدوائية للعقاقير والعلاجات ...</td>\n",
       "      <td>['   دراسة مواصفات وتركيبات الادوية والعقاقير ...</td>\n",
       "      <td>شركة تقنية الدواجن والألبان للتجارة</td>\n",
       "      <td>1-2415250</td>\n",
       "      <td>خاص</td>\n",
       "      <td>صغيرة فئة ب</td>\n",
       "      <td>NaN</td>\n",
       "      <td>['Professional certificate \\\\ License data', '...</td>\n",
       "      <td>الرياض</td>\n",
       "      <td>AR RIYADH...</td>\n",
       "      <td>['Salary', '7000.0']</td>\n",
       "      <td>دوام كامل</td>\n",
       "      <td>0 / 1</td>\n",
       "      <td>20202026399061</td>\n",
       "      <td>0 Years</td>\n",
       "      <td>both</td>\n",
       "    </tr>\n",
       "  </tbody>\n",
       "</table>\n",
       "<p>92 rows × 17 columns</p>\n",
       "</div>"
      ],
      "text/plain": [
       "                         job_title  \\\n",
       "866              موظف استقبال فندق   \n",
       "867              أخصائي علاج طبيعي   \n",
       "868              أخصائي علاج طبيعي   \n",
       "869                     مدير إداري   \n",
       "873                     مشرف صيانة   \n",
       "...                            ...   \n",
       "1157  عامل كاونتر مأكولات ومشروبات   \n",
       "1158                 مندوب مشتريات   \n",
       "1383                     مدير مقهى   \n",
       "1467                         صيدلي   \n",
       "1469                         صيدلي   \n",
       "\n",
       "                                               job_desc  \\\n",
       "866   ['الإشراف على خدمات الضيوف في مكتب الاستقبال، ...   \n",
       "867   ['دراسة وتحليل الحالة المرضية ووضع خطة وبرنامج...   \n",
       "868   ['دراسة وتحليل الحالة المرضية ووضع خطة وبرنامج...   \n",
       "869   ['The Project Manager (PM) are the responsible...   \n",
       "873   ['إعداد خطة وبرنامج العمل، ومتابعة إجراءات تحد...   \n",
       "...                                                 ...   \n",
       "1157  ['تحضير وتقديم  الطعام والشراب في الأماكن العا...   \n",
       "1158  ['شراء المواد والسلع عن طريق الشراء المباشر، و...   \n",
       "1383  ['تخطيط عمليات المقهى أو ما يماثلها من الأماكن...   \n",
       "1467  ['دراسة التركيبات الدوائية للعقاقير والعلاجات ...   \n",
       "1469  ['دراسة التركيبات الدوائية للعقاقير والعلاجات ...   \n",
       "\n",
       "                                              job_tasks  \\\n",
       "866   ['   الحفاظ على قائمة الحجوزات، وتوفير السجلات...   \n",
       "867   ['   دراسة وتحليل برنامج المعالجة الطبيعية الم...   \n",
       "868   ['   دراسة وتحليل برنامج المعالجة الطبيعية الم...   \n",
       "869   ['The Project Manager (PM) are the responsible...   \n",
       "873   ['   متابعة إجراءات تحديد نوع وطبيعة الصيانة و...   \n",
       "...                                                 ...   \n",
       "1157  ['   تحضير المشروبات الساخنة والباردة للعملاء'...   \n",
       "1158  ['   دراسة طلبات الشراء في الجهة المعنية وتدقي...   \n",
       "1383  ['   إدارة عملية تخطيط وتقديم الأطعمة والمشروب...   \n",
       "1467  ['   دراسة مواصفات وتركيبات الادوية والعقاقير ...   \n",
       "1469  ['   دراسة مواصفات وتركيبات الادوية والعقاقير ...   \n",
       "\n",
       "                                             comp_name     comp_no comp_type  \\\n",
       "866                         فندق صفوة الغفران الفندقية    13-84812       خاص   \n",
       "867                                  مركز رضوى للحجامة  14-1709089       خاص   \n",
       "868                           مركز سكاكا الجوف للحجامة  25-1952621       خاص   \n",
       "869                           شـركة سفاري مساهمه مقفله      1-4430       خاص   \n",
       "873     مؤسسة عواطف عبدالله حسين قطان للمقاولات العامة  12-1876162       خاص   \n",
       "...                                                ...         ...       ...   \n",
       "1157                     مؤسسة قدور نجد لخدمات الاعاشة   1-2173101       خاص   \n",
       "1158  شركة بشار محمد قطامش للمقاولات شركة الشخص الواحد    1-228552       خاص   \n",
       "1383                      مؤسسة اسياف لتقديم المشروبات  12-1959550       خاص   \n",
       "1467               شركة تقنية الدواجن والألبان للتجارة   1-2415250       خاص   \n",
       "1469               شركة تقنية الدواجن والألبان للتجارة   1-2415250       خاص   \n",
       "\n",
       "         comp_size                                       eco_activity  \\\n",
       "866   متوسطة فئة ب                                                NaN   \n",
       "867    صغيرة فئة أ  الخدمات الطبية بالمصحات المتخصصة ومراكز إعادة ...   \n",
       "868    صغيرة فئة أ                        مراكز الطب البديل والتكميلي   \n",
       "869         عملاقة  تركيب انظمة التبريد وتكييف الهواء وصيانتها واص...   \n",
       "873    صغيرة فئة أ                          أنشطة خدمات صيانة المباني   \n",
       "...            ...                                                ...   \n",
       "1157  متوسطة فئة ب      محلات الوجبات السريعة ( تشمل محلات البيتزاء )   \n",
       "1158  متوسطة فئة أ               ترميمات المباني السكنية والغير سكنية   \n",
       "1383   صغيرة فئة أ  بيع الأغذية والمشروبات بالتجزئة في الأكشاك وال...   \n",
       "1467   صغيرة فئة ب                                                NaN   \n",
       "1469   صغيرة فئة ب                                                NaN   \n",
       "\n",
       "                                                 qualif           region  \\\n",
       "866            ['Language data', 'الانجليزية', 'متوسط']      مكة المكرمة   \n",
       "867                                                 NaN  المدينة المنورة   \n",
       "868                                                 NaN            الجوف   \n",
       "869   ['Skill data', 'التخطيط الاستراتيجي', 'محترف',...           الرياض   \n",
       "873                                                 NaN      مكة المكرمة   \n",
       "...                                                 ...              ...   \n",
       "1157                                                NaN           الرياض   \n",
       "1158           ['Language data', 'الانجليزية', 'متوسط']           الرياض   \n",
       "1383  ['Skill data', 'الرسم على القهوة', 'محترف', 'L...      مكة المكرمة   \n",
       "1467  ['Professional certificate \\\\ License data', '...           الرياض   \n",
       "1469  ['Professional certificate \\\\ License data', '...           الرياض   \n",
       "\n",
       "              city                                           benefits  \\\n",
       "866   MAKKAH AL...                               ['Salary', '4000.0']   \n",
       "867   YANBU AL ...                               ['Salary', '5000.0']   \n",
       "868      SAKAKA...                               ['Salary', '5000.0']   \n",
       "869   AR RIYADH...  ['Salary', '8000.0', 'Benefits', 'الراتب من 80...   \n",
       "873     AT TAIF...                               ['Salary', '4000.0']   \n",
       "...            ...                                                ...   \n",
       "1157  AR RIYADH...                               ['Salary', '4000.0']   \n",
       "1158  AR RIYADH...                               ['Salary', '4000.0']   \n",
       "1383  AL HALQAH...                               ['Salary', '4000.0']   \n",
       "1467  AR RIYADH...                               ['Salary', '7000.0']   \n",
       "1469  AR RIYADH...                               ['Salary', '7000.0']   \n",
       "\n",
       "       contract positions     job_post_id    exper gender  \n",
       "866   دوام كامل     0 / 3  20202026375557  0 Years      M  \n",
       "867   دوام كامل     0 / 3  20202026375503  0 Years   both  \n",
       "868   دوام كامل     0 / 2  20202026375465  0 Years   both  \n",
       "869   دوام كامل     0 / 1  20202026375235  4 Years   both  \n",
       "873   دوام كامل     0 / 1  20202026374934  0 Years      M  \n",
       "...         ...       ...             ...      ...    ...  \n",
       "1157  دوام كامل     0 / 5  20202026373486  0 Years   both  \n",
       "1158  دوام كامل     0 / 1  20202026373225  0 Years   both  \n",
       "1383  دوام كامل     0 / 1  20202026376997  2 Years   both  \n",
       "1467  دوام كامل     0 / 1  20202026399061  0 Years   both  \n",
       "1469  دوام كامل     0 / 1  20202026399061  0 Years   both  \n",
       "\n",
       "[92 rows x 17 columns]"
      ]
     },
     "execution_count": 799,
     "metadata": {},
     "output_type": "execute_result"
    }
   ],
   "source": [
    "df[df.duplicated(keep=False)]"
   ]
  },
  {
   "cell_type": "code",
   "execution_count": 801,
   "id": "eda26bdd-ec81-4f04-891a-23ec181e632e",
   "metadata": {},
   "outputs": [],
   "source": [
    "df = df.drop_duplicates()"
   ]
  },
  {
   "cell_type": "code",
   "execution_count": 803,
   "id": "5c5d7abc-28b7-46c6-ae21-6ff268e5492f",
   "metadata": {},
   "outputs": [
    {
     "data": {
      "text/plain": [
       "(1424, 17)"
      ]
     },
     "execution_count": 803,
     "metadata": {},
     "output_type": "execute_result"
    }
   ],
   "source": [
    "df.shape"
   ]
  },
  {
   "cell_type": "code",
   "execution_count": 805,
   "id": "04c62559-3b48-48cf-a4e9-857e2e0ff416",
   "metadata": {},
   "outputs": [],
   "source": [
    "#Based on 'job_post_id' i drop any raw that duplicated"
   ]
  },
  {
   "cell_type": "markdown",
   "id": "c7724ac2-4ea2-4cf4-a9e0-e64368f87b92",
   "metadata": {},
   "source": [
    "#### 6. Completeness: "
   ]
  },
  {
   "cell_type": "code",
   "execution_count": 808,
   "id": "48a4de54-a344-4b94-9908-9528c15c13f7",
   "metadata": {},
   "outputs": [
    {
     "data": {
      "text/plain": [
       "job_title         0\n",
       "job_desc          0\n",
       "job_tasks         0\n",
       "comp_name         0\n",
       "comp_no           0\n",
       "comp_type         0\n",
       "comp_size        14\n",
       "eco_activity     83\n",
       "qualif          667\n",
       "region            0\n",
       "city              0\n",
       "benefits          0\n",
       "contract          0\n",
       "positions         0\n",
       "job_post_id       0\n",
       "exper             0\n",
       "gender            0\n",
       "dtype: int64"
      ]
     },
     "execution_count": 808,
     "metadata": {},
     "output_type": "execute_result"
    }
   ],
   "source": [
    "df.isnull().sum()"
   ]
  },
  {
   "cell_type": "code",
   "execution_count": 810,
   "id": "9a583a12-33f2-48af-9fc1-f4ab78cadcf0",
   "metadata": {},
   "outputs": [
    {
     "name": "stderr",
     "output_type": "stream",
     "text": [
      "C:\\Users\\almal\\AppData\\Local\\Temp\\ipykernel_13244\\3503285274.py:2: SettingWithCopyWarning: \n",
      "A value is trying to be set on a copy of a slice from a DataFrame.\n",
      "Try using .loc[row_indexer,col_indexer] = value instead\n",
      "\n",
      "See the caveats in the documentation: https://pandas.pydata.org/pandas-docs/stable/user_guide/indexing.html#returning-a-view-versus-a-copy\n",
      "  df['comp_size'] = df['comp_size'].fillna(\"غير معروف\")\n",
      "C:\\Users\\almal\\AppData\\Local\\Temp\\ipykernel_13244\\3503285274.py:3: SettingWithCopyWarning: \n",
      "A value is trying to be set on a copy of a slice from a DataFrame.\n",
      "Try using .loc[row_indexer,col_indexer] = value instead\n",
      "\n",
      "See the caveats in the documentation: https://pandas.pydata.org/pandas-docs/stable/user_guide/indexing.html#returning-a-view-versus-a-copy\n",
      "  df['eco_activity'] = df['eco_activity'].fillna(\"غير معروف\")\n",
      "C:\\Users\\almal\\AppData\\Local\\Temp\\ipykernel_13244\\3503285274.py:4: SettingWithCopyWarning: \n",
      "A value is trying to be set on a copy of a slice from a DataFrame.\n",
      "Try using .loc[row_indexer,col_indexer] = value instead\n",
      "\n",
      "See the caveats in the documentation: https://pandas.pydata.org/pandas-docs/stable/user_guide/indexing.html#returning-a-view-versus-a-copy\n",
      "  df['qualif'] = df['qualif'].fillna(\"ليس محدد\")\n"
     ]
    }
   ],
   "source": [
    "# Fill null values using imputation with constant values\n",
    "df['comp_size'] = df['comp_size'].fillna(\"غير معروف\")\n",
    "df['eco_activity'] = df['eco_activity'].fillna(\"غير معروف\")\n",
    "df['qualif'] = df['qualif'].fillna(\"ليس محدد\")"
   ]
  },
  {
   "cell_type": "code",
   "execution_count": 812,
   "id": "ab9b303b-59e9-4c14-a79a-f1cdbf498613",
   "metadata": {},
   "outputs": [
    {
     "data": {
      "text/plain": [
       "job_title       0\n",
       "job_desc        0\n",
       "job_tasks       0\n",
       "comp_name       0\n",
       "comp_no         0\n",
       "comp_type       0\n",
       "comp_size       0\n",
       "eco_activity    0\n",
       "qualif          0\n",
       "region          0\n",
       "city            0\n",
       "benefits        0\n",
       "contract        0\n",
       "positions       0\n",
       "job_post_id     0\n",
       "exper           0\n",
       "gender          0\n",
       "dtype: int64"
      ]
     },
     "execution_count": 812,
     "metadata": {},
     "output_type": "execute_result"
    }
   ],
   "source": [
    "df.isnull().sum()"
   ]
  },
  {
   "cell_type": "markdown",
   "id": "b40de63c-5a1d-49ed-a87e-c5229ee08bbe",
   "metadata": {},
   "source": [
    "#### 7. Check Accuracy:"
   ]
  },
  {
   "cell_type": "markdown",
   "id": "2f7cc1bd-fb03-48bd-b3e3-673ff2629798",
   "metadata": {},
   "source": [
    "**Appropriateness of data types**"
   ]
  },
  {
   "cell_type": "code",
   "execution_count": 816,
   "id": "68be5334-ae10-4abd-8097-3259fe5e72c8",
   "metadata": {},
   "outputs": [
    {
     "data": {
      "text/plain": [
       "job_title       object\n",
       "job_desc        object\n",
       "job_tasks       object\n",
       "comp_name       object\n",
       "comp_no         object\n",
       "comp_type       object\n",
       "comp_size       object\n",
       "eco_activity    object\n",
       "qualif          object\n",
       "region          object\n",
       "city            object\n",
       "benefits        object\n",
       "contract        object\n",
       "positions       object\n",
       "job_post_id      int64\n",
       "exper           object\n",
       "gender          object\n",
       "dtype: object"
      ]
     },
     "execution_count": 816,
     "metadata": {},
     "output_type": "execute_result"
    }
   ],
   "source": [
    "df.dtypes "
   ]
  },
  {
   "cell_type": "code",
   "execution_count": 818,
   "id": "9b3ea4ab-467d-4df6-931d-ee316e6aeb63",
   "metadata": {},
   "outputs": [
    {
     "data": {
      "text/html": [
       "<div>\n",
       "<style scoped>\n",
       "    .dataframe tbody tr th:only-of-type {\n",
       "        vertical-align: middle;\n",
       "    }\n",
       "\n",
       "    .dataframe tbody tr th {\n",
       "        vertical-align: top;\n",
       "    }\n",
       "\n",
       "    .dataframe thead th {\n",
       "        text-align: right;\n",
       "    }\n",
       "</style>\n",
       "<table border=\"1\" class=\"dataframe\">\n",
       "  <thead>\n",
       "    <tr style=\"text-align: right;\">\n",
       "      <th></th>\n",
       "      <th>job_title</th>\n",
       "      <th>job_desc</th>\n",
       "      <th>job_tasks</th>\n",
       "      <th>comp_name</th>\n",
       "      <th>comp_no</th>\n",
       "      <th>comp_type</th>\n",
       "      <th>comp_size</th>\n",
       "      <th>eco_activity</th>\n",
       "      <th>qualif</th>\n",
       "      <th>region</th>\n",
       "      <th>city</th>\n",
       "      <th>benefits</th>\n",
       "      <th>contract</th>\n",
       "      <th>positions</th>\n",
       "      <th>job_post_id</th>\n",
       "      <th>exper</th>\n",
       "      <th>gender</th>\n",
       "    </tr>\n",
       "  </thead>\n",
       "  <tbody>\n",
       "    <tr>\n",
       "      <th>0</th>\n",
       "      <td>محاسب</td>\n",
       "      <td>['إعداد وتنظيم مستندات الصرف ومتابعة تحصيل الإ...</td>\n",
       "      <td>['   تدقيق المطالبات المالية والتأكد من اكتمال...</td>\n",
       "      <td>شركة مقر العالم للسفريات</td>\n",
       "      <td>1-317262</td>\n",
       "      <td>خاص</td>\n",
       "      <td>متوسطة فئة أ</td>\n",
       "      <td>أنشطة وكالات السياحة والسفر</td>\n",
       "      <td>['Language data', 'اللغة الانجليزية', 'محترف']</td>\n",
       "      <td>الرياض</td>\n",
       "      <td>AR RIYADH...</td>\n",
       "      <td>['Salary', '5000.0']</td>\n",
       "      <td>دوام كامل</td>\n",
       "      <td>0 / 1</td>\n",
       "      <td>20202026350419</td>\n",
       "      <td>0 Years</td>\n",
       "      <td>both</td>\n",
       "    </tr>\n",
       "    <tr>\n",
       "      <th>1</th>\n",
       "      <td>بائع</td>\n",
       "      <td>['بيع مجموعة من السلع والخدمات للعملاء، وتوفير...</td>\n",
       "      <td>['   بيع مجموعة من السلع والخدمات للعملاء.', '...</td>\n",
       "      <td>شركة عالم الكهرباء للمقاولات</td>\n",
       "      <td>4-1324428</td>\n",
       "      <td>خاص</td>\n",
       "      <td>متوسطة فئة ب</td>\n",
       "      <td>تركيب انظمة التبريد وتكييف الهواء وصيانتها واص...</td>\n",
       "      <td>ليس محدد</td>\n",
       "      <td>المنطقة الشرقية</td>\n",
       "      <td>AD DAMMAM...</td>\n",
       "      <td>['Salary', '5000.0']</td>\n",
       "      <td>دوام كامل</td>\n",
       "      <td>0 / 3</td>\n",
       "      <td>20202026350389</td>\n",
       "      <td>0 Years</td>\n",
       "      <td>both</td>\n",
       "    </tr>\n",
       "    <tr>\n",
       "      <th>2</th>\n",
       "      <td>أخصائي عمليات موارد بشرية</td>\n",
       "      <td>['تنفيذ الإجراءات والأنظمة والنماذج الخاصة بمر...</td>\n",
       "      <td>['   تنفيذ الإجراءات والأنظمة والنماذج الخاصة ...</td>\n",
       "      <td>شركه دار السلام</td>\n",
       "      <td>1-155294</td>\n",
       "      <td>خاص</td>\n",
       "      <td>متوسطة فئة أ</td>\n",
       "      <td>ترميمات المباني السكنية والغير سكنية</td>\n",
       "      <td>['Language data', 'الانجليزيه', 'محترف']</td>\n",
       "      <td>الرياض</td>\n",
       "      <td>ATH THUMA...</td>\n",
       "      <td>['Salary', '4000.0']</td>\n",
       "      <td>دوام كامل</td>\n",
       "      <td>0 / 2</td>\n",
       "      <td>20202026350347</td>\n",
       "      <td>2 Years</td>\n",
       "      <td>both</td>\n",
       "    </tr>\n",
       "    <tr>\n",
       "      <th>3</th>\n",
       "      <td>ميكانيكي سيارات</td>\n",
       "      <td>['تشخيص أعطال السيارات وإصلاحها وتنفيذ برامج ا...</td>\n",
       "      <td>['   فحص أداء المعدّات الكهربائية والميكانيكية...</td>\n",
       "      <td>مؤسسة لمكو لغيار الزيوت</td>\n",
       "      <td>8-1925495</td>\n",
       "      <td>خاص</td>\n",
       "      <td>صغيرة فئة ب</td>\n",
       "      <td>غير معروف</td>\n",
       "      <td>['Skill data', 'صيانة السيارات وتقييم الاعطال'...</td>\n",
       "      <td>المنطقة الشرقية</td>\n",
       "      <td>AL HUFUF...</td>\n",
       "      <td>['Salary', '5000.0']</td>\n",
       "      <td>دوام كامل</td>\n",
       "      <td>0 / 10</td>\n",
       "      <td>20202026350219</td>\n",
       "      <td>0 Years</td>\n",
       "      <td>M</td>\n",
       "    </tr>\n",
       "    <tr>\n",
       "      <th>4</th>\n",
       "      <td>محاسب</td>\n",
       "      <td>['إعداد وتنظيم مستندات الصرف ومتابعة تحصيل الإ...</td>\n",
       "      <td>['   تدقيق المطالبات المالية والتأكد من اكتمال...</td>\n",
       "      <td>مؤسسة فكرة اليمامة للمقاولات</td>\n",
       "      <td>1-2356639</td>\n",
       "      <td>خاص</td>\n",
       "      <td>كبيرة</td>\n",
       "      <td>الإنشاءات العامة للمباني السكنية</td>\n",
       "      <td>['Skill data', 'تحمل ضغط العمل', 'محترف', 'Lan...</td>\n",
       "      <td>الرياض</td>\n",
       "      <td>AR RIYADH...</td>\n",
       "      <td>['Salary', '5000.0']</td>\n",
       "      <td>دوام كامل</td>\n",
       "      <td>0 / 1</td>\n",
       "      <td>20202026350043</td>\n",
       "      <td>0 Years</td>\n",
       "      <td>both</td>\n",
       "    </tr>\n",
       "    <tr>\n",
       "      <th>...</th>\n",
       "      <td>...</td>\n",
       "      <td>...</td>\n",
       "      <td>...</td>\n",
       "      <td>...</td>\n",
       "      <td>...</td>\n",
       "      <td>...</td>\n",
       "      <td>...</td>\n",
       "      <td>...</td>\n",
       "      <td>...</td>\n",
       "      <td>...</td>\n",
       "      <td>...</td>\n",
       "      <td>...</td>\n",
       "      <td>...</td>\n",
       "      <td>...</td>\n",
       "      <td>...</td>\n",
       "      <td>...</td>\n",
       "      <td>...</td>\n",
       "    </tr>\n",
       "    <tr>\n",
       "      <th>1464</th>\n",
       "      <td>بائع</td>\n",
       "      <td>['بيع مجموعة من السلع والخدمات للعملاء، وتوفير...</td>\n",
       "      <td>['   بيع مجموعة من السلع والخدمات للعملاء.', '...</td>\n",
       "      <td>شركة النجمة الذهبية للتبريد والتكييف شركة شخص ...</td>\n",
       "      <td>8-1977608</td>\n",
       "      <td>خاص</td>\n",
       "      <td>صغيرة فئة ب</td>\n",
       "      <td>تركيب انظمة التبريد وتكييف الهواء وصيانتها واص...</td>\n",
       "      <td>ليس محدد</td>\n",
       "      <td>المنطقة الشرقية</td>\n",
       "      <td>AL HUFUF...</td>\n",
       "      <td>['Salary', '4000.0']</td>\n",
       "      <td>دوام كامل</td>\n",
       "      <td>0 / 1</td>\n",
       "      <td>20202026401107</td>\n",
       "      <td>2 Years</td>\n",
       "      <td>F</td>\n",
       "    </tr>\n",
       "    <tr>\n",
       "      <th>1465</th>\n",
       "      <td>مهندس تقنية معلومات</td>\n",
       "      <td>['دراسة احتياجات العميل من الأجهزة الحاسوبية و...</td>\n",
       "      <td>['   متابعة وتقييم عملية جمع وتحليل المعطيات و...</td>\n",
       "      <td>مطعم الاوراق الخضر لتقديم الوجبات</td>\n",
       "      <td>15-1698448</td>\n",
       "      <td>خاص</td>\n",
       "      <td>صغيرة فئة ب</td>\n",
       "      <td>المطاعم مع الخدمة</td>\n",
       "      <td>ليس محدد</td>\n",
       "      <td>الرياض</td>\n",
       "      <td>AR RIYADH...</td>\n",
       "      <td>['Salary', '5500.0']</td>\n",
       "      <td>دوام كامل</td>\n",
       "      <td>0 / 1</td>\n",
       "      <td>20202026400353</td>\n",
       "      <td>0 Years</td>\n",
       "      <td>both</td>\n",
       "    </tr>\n",
       "    <tr>\n",
       "      <th>1466</th>\n",
       "      <td>سكرتير</td>\n",
       "      <td>['دعم المدير أو الإدارة من خلال كتابة الوثائق ...</td>\n",
       "      <td>['   تدوين الملاحظات، التي يتم إملاؤها، بطريقة...</td>\n",
       "      <td>شركة ملتقى التجار لحاضنات و مسرعات الأعمال</td>\n",
       "      <td>9-2013930</td>\n",
       "      <td>خاص</td>\n",
       "      <td>صغيرة فئة ب</td>\n",
       "      <td>أنشطة حاضنات ومسرعات الأعمال</td>\n",
       "      <td>['Skill data', 'فن التواصل', 'محترف', 'Languag...</td>\n",
       "      <td>مكة المكرمة</td>\n",
       "      <td>JEDDAH...</td>\n",
       "      <td>['Salary', '4000.0']</td>\n",
       "      <td>دوام كامل</td>\n",
       "      <td>0 / 1</td>\n",
       "      <td>20202026399849</td>\n",
       "      <td>2 Years</td>\n",
       "      <td>both</td>\n",
       "    </tr>\n",
       "    <tr>\n",
       "      <th>1467</th>\n",
       "      <td>صيدلي</td>\n",
       "      <td>['دراسة التركيبات الدوائية للعقاقير والعلاجات ...</td>\n",
       "      <td>['   دراسة مواصفات وتركيبات الادوية والعقاقير ...</td>\n",
       "      <td>شركة تقنية الدواجن والألبان للتجارة</td>\n",
       "      <td>1-2415250</td>\n",
       "      <td>خاص</td>\n",
       "      <td>صغيرة فئة ب</td>\n",
       "      <td>غير معروف</td>\n",
       "      <td>['Professional certificate \\\\ License data', '...</td>\n",
       "      <td>الرياض</td>\n",
       "      <td>AR RIYADH...</td>\n",
       "      <td>['Salary', '7000.0']</td>\n",
       "      <td>دوام كامل</td>\n",
       "      <td>0 / 1</td>\n",
       "      <td>20202026399061</td>\n",
       "      <td>0 Years</td>\n",
       "      <td>both</td>\n",
       "    </tr>\n",
       "    <tr>\n",
       "      <th>1468</th>\n",
       "      <td>مشغل آلة تشطيب رخام</td>\n",
       "      <td>['تشغيل آلة تشطيب الرخام وابعادء الأجزاء المتف...</td>\n",
       "      <td>['   تسوية الرخام بواسطة أقراص الألماس الحديدي...</td>\n",
       "      <td>مصنع عبدالرحمن بن محمد بن عبدالعزيز العبدالقاد...</td>\n",
       "      <td>15-1971895</td>\n",
       "      <td>خاص</td>\n",
       "      <td>صغيرة فئة أ</td>\n",
       "      <td>غير معروف</td>\n",
       "      <td>['Skill data', 'متقن للعمل وشغوف ويرغب بالتطور...</td>\n",
       "      <td>المنطقة الشرقية</td>\n",
       "      <td>AL KHUBAR...</td>\n",
       "      <td>['Salary', '4000.0', 'Benefits', 'اجازة سنوية ...</td>\n",
       "      <td>دوام كامل</td>\n",
       "      <td>0 / 3</td>\n",
       "      <td>20202026398972</td>\n",
       "      <td>0 Years</td>\n",
       "      <td>M</td>\n",
       "    </tr>\n",
       "  </tbody>\n",
       "</table>\n",
       "<p>1424 rows × 17 columns</p>\n",
       "</div>"
      ],
      "text/plain": [
       "                      job_title  \\\n",
       "0                         محاسب   \n",
       "1                          بائع   \n",
       "2     أخصائي عمليات موارد بشرية   \n",
       "3               ميكانيكي سيارات   \n",
       "4                         محاسب   \n",
       "...                         ...   \n",
       "1464                       بائع   \n",
       "1465        مهندس تقنية معلومات   \n",
       "1466                     سكرتير   \n",
       "1467                      صيدلي   \n",
       "1468        مشغل آلة تشطيب رخام   \n",
       "\n",
       "                                               job_desc  \\\n",
       "0     ['إعداد وتنظيم مستندات الصرف ومتابعة تحصيل الإ...   \n",
       "1     ['بيع مجموعة من السلع والخدمات للعملاء، وتوفير...   \n",
       "2     ['تنفيذ الإجراءات والأنظمة والنماذج الخاصة بمر...   \n",
       "3     ['تشخيص أعطال السيارات وإصلاحها وتنفيذ برامج ا...   \n",
       "4     ['إعداد وتنظيم مستندات الصرف ومتابعة تحصيل الإ...   \n",
       "...                                                 ...   \n",
       "1464  ['بيع مجموعة من السلع والخدمات للعملاء، وتوفير...   \n",
       "1465  ['دراسة احتياجات العميل من الأجهزة الحاسوبية و...   \n",
       "1466  ['دعم المدير أو الإدارة من خلال كتابة الوثائق ...   \n",
       "1467  ['دراسة التركيبات الدوائية للعقاقير والعلاجات ...   \n",
       "1468  ['تشغيل آلة تشطيب الرخام وابعادء الأجزاء المتف...   \n",
       "\n",
       "                                              job_tasks  \\\n",
       "0     ['   تدقيق المطالبات المالية والتأكد من اكتمال...   \n",
       "1     ['   بيع مجموعة من السلع والخدمات للعملاء.', '...   \n",
       "2     ['   تنفيذ الإجراءات والأنظمة والنماذج الخاصة ...   \n",
       "3     ['   فحص أداء المعدّات الكهربائية والميكانيكية...   \n",
       "4     ['   تدقيق المطالبات المالية والتأكد من اكتمال...   \n",
       "...                                                 ...   \n",
       "1464  ['   بيع مجموعة من السلع والخدمات للعملاء.', '...   \n",
       "1465  ['   متابعة وتقييم عملية جمع وتحليل المعطيات و...   \n",
       "1466  ['   تدوين الملاحظات، التي يتم إملاؤها، بطريقة...   \n",
       "1467  ['   دراسة مواصفات وتركيبات الادوية والعقاقير ...   \n",
       "1468  ['   تسوية الرخام بواسطة أقراص الألماس الحديدي...   \n",
       "\n",
       "                                              comp_name     comp_no comp_type  \\\n",
       "0                              شركة مقر العالم للسفريات    1-317262       خاص   \n",
       "1                          شركة عالم الكهرباء للمقاولات   4-1324428       خاص   \n",
       "2                                       شركه دار السلام    1-155294       خاص   \n",
       "3                               مؤسسة لمكو لغيار الزيوت   8-1925495       خاص   \n",
       "4                          مؤسسة فكرة اليمامة للمقاولات   1-2356639       خاص   \n",
       "...                                                 ...         ...       ...   \n",
       "1464  شركة النجمة الذهبية للتبريد والتكييف شركة شخص ...   8-1977608       خاص   \n",
       "1465                  مطعم الاوراق الخضر لتقديم الوجبات  15-1698448       خاص   \n",
       "1466         شركة ملتقى التجار لحاضنات و مسرعات الأعمال   9-2013930       خاص   \n",
       "1467                شركة تقنية الدواجن والألبان للتجارة   1-2415250       خاص   \n",
       "1468  مصنع عبدالرحمن بن محمد بن عبدالعزيز العبدالقاد...  15-1971895       خاص   \n",
       "\n",
       "         comp_size                                       eco_activity  \\\n",
       "0     متوسطة فئة أ                        أنشطة وكالات السياحة والسفر   \n",
       "1     متوسطة فئة ب  تركيب انظمة التبريد وتكييف الهواء وصيانتها واص...   \n",
       "2     متوسطة فئة أ               ترميمات المباني السكنية والغير سكنية   \n",
       "3      صغيرة فئة ب                                          غير معروف   \n",
       "4            كبيرة                   الإنشاءات العامة للمباني السكنية   \n",
       "...            ...                                                ...   \n",
       "1464   صغيرة فئة ب  تركيب انظمة التبريد وتكييف الهواء وصيانتها واص...   \n",
       "1465   صغيرة فئة ب                                  المطاعم مع الخدمة   \n",
       "1466   صغيرة فئة ب                       أنشطة حاضنات ومسرعات الأعمال   \n",
       "1467   صغيرة فئة ب                                          غير معروف   \n",
       "1468   صغيرة فئة أ                                          غير معروف   \n",
       "\n",
       "                                                 qualif           region  \\\n",
       "0        ['Language data', 'اللغة الانجليزية', 'محترف']           الرياض   \n",
       "1                                              ليس محدد  المنطقة الشرقية   \n",
       "2              ['Language data', 'الانجليزيه', 'محترف']           الرياض   \n",
       "3     ['Skill data', 'صيانة السيارات وتقييم الاعطال'...  المنطقة الشرقية   \n",
       "4     ['Skill data', 'تحمل ضغط العمل', 'محترف', 'Lan...           الرياض   \n",
       "...                                                 ...              ...   \n",
       "1464                                           ليس محدد  المنطقة الشرقية   \n",
       "1465                                           ليس محدد           الرياض   \n",
       "1466  ['Skill data', 'فن التواصل', 'محترف', 'Languag...      مكة المكرمة   \n",
       "1467  ['Professional certificate \\\\ License data', '...           الرياض   \n",
       "1468  ['Skill data', 'متقن للعمل وشغوف ويرغب بالتطور...  المنطقة الشرقية   \n",
       "\n",
       "              city                                           benefits  \\\n",
       "0     AR RIYADH...                               ['Salary', '5000.0']   \n",
       "1     AD DAMMAM...                               ['Salary', '5000.0']   \n",
       "2     ATH THUMA...                               ['Salary', '4000.0']   \n",
       "3      AL HUFUF...                               ['Salary', '5000.0']   \n",
       "4     AR RIYADH...                               ['Salary', '5000.0']   \n",
       "...            ...                                                ...   \n",
       "1464   AL HUFUF...                               ['Salary', '4000.0']   \n",
       "1465  AR RIYADH...                               ['Salary', '5500.0']   \n",
       "1466     JEDDAH...                               ['Salary', '4000.0']   \n",
       "1467  AR RIYADH...                               ['Salary', '7000.0']   \n",
       "1468  AL KHUBAR...  ['Salary', '4000.0', 'Benefits', 'اجازة سنوية ...   \n",
       "\n",
       "       contract positions     job_post_id    exper gender  \n",
       "0     دوام كامل     0 / 1  20202026350419  0 Years   both  \n",
       "1     دوام كامل     0 / 3  20202026350389  0 Years   both  \n",
       "2     دوام كامل     0 / 2  20202026350347  2 Years   both  \n",
       "3     دوام كامل    0 / 10  20202026350219  0 Years      M  \n",
       "4     دوام كامل     0 / 1  20202026350043  0 Years   both  \n",
       "...         ...       ...             ...      ...    ...  \n",
       "1464  دوام كامل     0 / 1  20202026401107  2 Years      F  \n",
       "1465  دوام كامل     0 / 1  20202026400353  0 Years   both  \n",
       "1466  دوام كامل     0 / 1  20202026399849  2 Years   both  \n",
       "1467  دوام كامل     0 / 1  20202026399061  0 Years   both  \n",
       "1468  دوام كامل     0 / 3  20202026398972  0 Years      M  \n",
       "\n",
       "[1424 rows x 17 columns]"
      ]
     },
     "execution_count": 818,
     "metadata": {},
     "output_type": "execute_result"
    }
   ],
   "source": [
    "df"
   ]
  },
  {
   "cell_type": "code",
   "execution_count": 820,
   "id": "15151aea-654e-4fd9-bf0e-3cbbf7e36fa5",
   "metadata": {},
   "outputs": [
    {
     "name": "stderr",
     "output_type": "stream",
     "text": [
      "C:\\Users\\almal\\AppData\\Local\\Temp\\ipykernel_13244\\1999914536.py:2: SettingWithCopyWarning: \n",
      "A value is trying to be set on a copy of a slice from a DataFrame.\n",
      "Try using .loc[row_indexer,col_indexer] = value instead\n",
      "\n",
      "See the caveats in the documentation: https://pandas.pydata.org/pandas-docs/stable/user_guide/indexing.html#returning-a-view-versus-a-copy\n",
      "  df['exper'] = df['exper'].map(lambda x: int(x.split(' ')[0]))\n",
      "C:\\Users\\almal\\AppData\\Local\\Temp\\ipykernel_13244\\1999914536.py:3: SettingWithCopyWarning: \n",
      "A value is trying to be set on a copy of a slice from a DataFrame\n",
      "\n",
      "See the caveats in the documentation: https://pandas.pydata.org/pandas-docs/stable/user_guide/indexing.html#returning-a-view-versus-a-copy\n",
      "  df.rename(columns={'exper' : 'year of exper'} , inplace=True)\n"
     ]
    }
   ],
   "source": [
    "# To use this column as an integer, I remove the \"year\" word using \"split\" and change the column name to be more understandable\n",
    "df['exper'] = df['exper'].map(lambda x: int(x.split(' ')[0]))\n",
    "df.rename(columns={'exper' : 'year of exper'} , inplace=True)"
   ]
  },
  {
   "cell_type": "code",
   "execution_count": 822,
   "id": "c83ae01e-8ba0-49ed-84d4-0ca256b6b561",
   "metadata": {},
   "outputs": [
    {
     "name": "stderr",
     "output_type": "stream",
     "text": [
      "C:\\Users\\almal\\AppData\\Local\\Temp\\ipykernel_13244\\3502345406.py:2: SettingWithCopyWarning: \n",
      "A value is trying to be set on a copy of a slice from a DataFrame.\n",
      "Try using .loc[row_indexer,col_indexer] = value instead\n",
      "\n",
      "See the caveats in the documentation: https://pandas.pydata.org/pandas-docs/stable/user_guide/indexing.html#returning-a-view-versus-a-copy\n",
      "  df['positions'] = df['positions'].map(lambda x: int(x.split('/')[1]))\n"
     ]
    }
   ],
   "source": [
    "#Take the second value after '/' to make the column integer\n",
    "df['positions'] = df['positions'].map(lambda x: int(x.split('/')[1]))"
   ]
  },
  {
   "cell_type": "code",
   "execution_count": 824,
   "id": "b299a79f-a487-487c-8e04-a8a7ea12ddb6",
   "metadata": {},
   "outputs": [
    {
     "name": "stderr",
     "output_type": "stream",
     "text": [
      "C:\\Users\\almal\\AppData\\Local\\Temp\\ipykernel_13244\\2415721235.py:2: SettingWithCopyWarning: \n",
      "A value is trying to be set on a copy of a slice from a DataFrame.\n",
      "Try using .loc[row_indexer,col_indexer] = value instead\n",
      "\n",
      "See the caveats in the documentation: https://pandas.pydata.org/pandas-docs/stable/user_guide/indexing.html#returning-a-view-versus-a-copy\n",
      "  df['comp_no'] = df['comp_no'].map(lambda x: int(x.split('-')[1]))\n"
     ]
    }
   ],
   "source": [
    "#Take the second value after '-' to make the column integer\n",
    "df['comp_no'] = df['comp_no'].map(lambda x: int(x.split('-')[1]))"
   ]
  },
  {
   "cell_type": "code",
   "execution_count": 826,
   "id": "903ff0b4-c7b5-41f1-8e5c-0dc1556f213d",
   "metadata": {},
   "outputs": [
    {
     "name": "stderr",
     "output_type": "stream",
     "text": [
      "C:\\Users\\almal\\AppData\\Local\\Temp\\ipykernel_13244\\4275683663.py:2: SettingWithCopyWarning: \n",
      "A value is trying to be set on a copy of a slice from a DataFrame.\n",
      "Try using .loc[row_indexer,col_indexer] = value instead\n",
      "\n",
      "See the caveats in the documentation: https://pandas.pydata.org/pandas-docs/stable/user_guide/indexing.html#returning-a-view-versus-a-copy\n",
      "  df[['salary' , 'benefits']] = df['benefits'].str.split('Benefits', expand=True)\n"
     ]
    }
   ],
   "source": [
    "#Split the benefits column as it have list of values to two column one for salary and one for benefits\n",
    "df[['salary' , 'benefits']] = df['benefits'].str.split('Benefits', expand=True)"
   ]
  },
  {
   "cell_type": "code",
   "execution_count": 828,
   "id": "f8911d1c-7923-45aa-9598-a9781ebb133a",
   "metadata": {},
   "outputs": [
    {
     "name": "stderr",
     "output_type": "stream",
     "text": [
      "C:\\Users\\almal\\AppData\\Local\\Temp\\ipykernel_13244\\1281914890.py:2: SettingWithCopyWarning: \n",
      "A value is trying to be set on a copy of a slice from a DataFrame.\n",
      "Try using .loc[row_indexer,col_indexer] = value instead\n",
      "\n",
      "See the caveats in the documentation: https://pandas.pydata.org/pandas-docs/stable/user_guide/indexing.html#returning-a-view-versus-a-copy\n",
      "  df['benefits'] = df['benefits'].fillna(\"ليس هناك حوافز\")\n"
     ]
    }
   ],
   "source": [
    "#Fill null value in benefits column after spliting it with constant value\n",
    "df['benefits'] = df['benefits'].fillna(\"ليس هناك حوافز\")"
   ]
  },
  {
   "cell_type": "code",
   "execution_count": 830,
   "id": "d5daebe7-aa30-4f53-adf6-05e15663aa1a",
   "metadata": {},
   "outputs": [
    {
     "name": "stderr",
     "output_type": "stream",
     "text": [
      "C:\\Users\\almal\\AppData\\Local\\Temp\\ipykernel_13244\\1326308402.py:2: SettingWithCopyWarning: \n",
      "A value is trying to be set on a copy of a slice from a DataFrame.\n",
      "Try using .loc[row_indexer,col_indexer] = value instead\n",
      "\n",
      "See the caveats in the documentation: https://pandas.pydata.org/pandas-docs/stable/user_guide/indexing.html#returning-a-view-versus-a-copy\n",
      "  df['salary'] = df['salary'].map(lambda x: x.split(',')[1])\n"
     ]
    }
   ],
   "source": [
    "#Clean salary column by replacing any type of symbols with space\n",
    "df['salary'] = df['salary'].map(lambda x: x.split(',')[1])"
   ]
  },
  {
   "cell_type": "code",
   "execution_count": 832,
   "id": "aea3198d-420c-4463-b874-b1d34d07789d",
   "metadata": {},
   "outputs": [
    {
     "name": "stderr",
     "output_type": "stream",
     "text": [
      "C:\\Users\\almal\\AppData\\Local\\Temp\\ipykernel_13244\\2403602998.py:1: SettingWithCopyWarning: \n",
      "A value is trying to be set on a copy of a slice from a DataFrame.\n",
      "Try using .loc[row_indexer,col_indexer] = value instead\n",
      "\n",
      "See the caveats in the documentation: https://pandas.pydata.org/pandas-docs/stable/user_guide/indexing.html#returning-a-view-versus-a-copy\n",
      "  df['salary'] = df['salary'].str.replace(']', '', regex=False)\n"
     ]
    }
   ],
   "source": [
    "df['salary'] = df['salary'].str.replace(']', '', regex=False)"
   ]
  },
  {
   "cell_type": "code",
   "execution_count": 834,
   "id": "c6952954-3610-4558-841b-a590e8646d24",
   "metadata": {},
   "outputs": [
    {
     "name": "stderr",
     "output_type": "stream",
     "text": [
      "C:\\Users\\almal\\AppData\\Local\\Temp\\ipykernel_13244\\361083900.py:1: SettingWithCopyWarning: \n",
      "A value is trying to be set on a copy of a slice from a DataFrame.\n",
      "Try using .loc[row_indexer,col_indexer] = value instead\n",
      "\n",
      "See the caveats in the documentation: https://pandas.pydata.org/pandas-docs/stable/user_guide/indexing.html#returning-a-view-versus-a-copy\n",
      "  df['salary'] = df['salary'].str.replace(\"'\", \"\", regex=False)\n"
     ]
    }
   ],
   "source": [
    "df['salary'] = df['salary'].str.replace(\"'\", \"\", regex=False)"
   ]
  },
  {
   "cell_type": "code",
   "execution_count": 836,
   "id": "442df9ee-239c-4030-a5fa-0adf87d12c15",
   "metadata": {},
   "outputs": [
    {
     "name": "stderr",
     "output_type": "stream",
     "text": [
      "C:\\Users\\almal\\AppData\\Local\\Temp\\ipykernel_13244\\3552562623.py:2: SettingWithCopyWarning: \n",
      "A value is trying to be set on a copy of a slice from a DataFrame.\n",
      "Try using .loc[row_indexer,col_indexer] = value instead\n",
      "\n",
      "See the caveats in the documentation: https://pandas.pydata.org/pandas-docs/stable/user_guide/indexing.html#returning-a-view-versus-a-copy\n",
      "  df['salary'] = df['salary'].astype(float)\n"
     ]
    }
   ],
   "source": [
    "#Change salary type to be float after claening it\n",
    "df['salary'] = df['salary'].astype(float)"
   ]
  },
  {
   "cell_type": "code",
   "execution_count": 838,
   "id": "cbaa8c67-aa6e-4883-a263-1470818252a0",
   "metadata": {},
   "outputs": [
    {
     "name": "stderr",
     "output_type": "stream",
     "text": [
      "C:\\Users\\almal\\AppData\\Local\\Temp\\ipykernel_13244\\3369544542.py:2: SettingWithCopyWarning: \n",
      "A value is trying to be set on a copy of a slice from a DataFrame.\n",
      "Try using .loc[row_indexer,col_indexer] = value instead\n",
      "\n",
      "See the caveats in the documentation: https://pandas.pydata.org/pandas-docs/stable/user_guide/indexing.html#returning-a-view-versus-a-copy\n",
      "  df['benefits'] = df['benefits'].str.replace(']', '', regex=False)\n"
     ]
    }
   ],
   "source": [
    "#Clean benefits column by replacing any type of symbols with space\n",
    "df['benefits'] = df['benefits'].str.replace(']', '', regex=False)"
   ]
  },
  {
   "cell_type": "code",
   "execution_count": 840,
   "id": "6b8a8b33-9a5b-4c77-bb29-19b5a68943fd",
   "metadata": {},
   "outputs": [
    {
     "name": "stderr",
     "output_type": "stream",
     "text": [
      "C:\\Users\\almal\\AppData\\Local\\Temp\\ipykernel_13244\\1948925445.py:1: SettingWithCopyWarning: \n",
      "A value is trying to be set on a copy of a slice from a DataFrame.\n",
      "Try using .loc[row_indexer,col_indexer] = value instead\n",
      "\n",
      "See the caveats in the documentation: https://pandas.pydata.org/pandas-docs/stable/user_guide/indexing.html#returning-a-view-versus-a-copy\n",
      "  df['benefits'] = df['benefits'].str.replace(\"'\", \"\", regex=False)\n"
     ]
    }
   ],
   "source": [
    "df['benefits'] = df['benefits'].str.replace(\"'\", \"\", regex=False)"
   ]
  },
  {
   "cell_type": "code",
   "execution_count": 842,
   "id": "947233e9-ee99-4426-a18b-777f351c4a2d",
   "metadata": {},
   "outputs": [
    {
     "name": "stderr",
     "output_type": "stream",
     "text": [
      "C:\\Users\\almal\\AppData\\Local\\Temp\\ipykernel_13244\\936822120.py:1: SettingWithCopyWarning: \n",
      "A value is trying to be set on a copy of a slice from a DataFrame.\n",
      "Try using .loc[row_indexer,col_indexer] = value instead\n",
      "\n",
      "See the caveats in the documentation: https://pandas.pydata.org/pandas-docs/stable/user_guide/indexing.html#returning-a-view-versus-a-copy\n",
      "  df['benefits'] = df['benefits'].str.replace(\",\", \"\", regex=False)\n"
     ]
    }
   ],
   "source": [
    "df['benefits'] = df['benefits'].str.replace(\",\", \"\", regex=False)"
   ]
  },
  {
   "cell_type": "code",
   "execution_count": 844,
   "id": "39c18a2e-962f-49bb-8ade-57c269c6018d",
   "metadata": {},
   "outputs": [
    {
     "name": "stderr",
     "output_type": "stream",
     "text": [
      "C:\\Users\\almal\\AppData\\Local\\Temp\\ipykernel_13244\\436333686.py:2: SettingWithCopyWarning: \n",
      "A value is trying to be set on a copy of a slice from a DataFrame.\n",
      "Try using .loc[row_indexer,col_indexer] = value instead\n",
      "\n",
      "See the caveats in the documentation: https://pandas.pydata.org/pandas-docs/stable/user_guide/indexing.html#returning-a-view-versus-a-copy\n",
      "  df['job_desc'] = df['job_desc'].str.replace(\"['\", \"\", regex=False)\n"
     ]
    }
   ],
   "source": [
    "#Clean job_desc column by replacing any type of symbols with space\n",
    "df['job_desc'] = df['job_desc'].str.replace(\"['\", \"\", regex=False)"
   ]
  },
  {
   "cell_type": "code",
   "execution_count": 846,
   "id": "22365204-b9d5-44f8-b44e-9639226f6346",
   "metadata": {},
   "outputs": [
    {
     "name": "stderr",
     "output_type": "stream",
     "text": [
      "C:\\Users\\almal\\AppData\\Local\\Temp\\ipykernel_13244\\3015486446.py:1: SettingWithCopyWarning: \n",
      "A value is trying to be set on a copy of a slice from a DataFrame.\n",
      "Try using .loc[row_indexer,col_indexer] = value instead\n",
      "\n",
      "See the caveats in the documentation: https://pandas.pydata.org/pandas-docs/stable/user_guide/indexing.html#returning-a-view-versus-a-copy\n",
      "  df['job_desc'] = df['job_desc'].str.replace(\"']\", \"\", regex=False)\n"
     ]
    }
   ],
   "source": [
    "df['job_desc'] = df['job_desc'].str.replace(\"']\", \"\", regex=False)"
   ]
  },
  {
   "cell_type": "code",
   "execution_count": 848,
   "id": "513155ee-a5b2-4304-8007-c5ca6889ecef",
   "metadata": {},
   "outputs": [
    {
     "name": "stderr",
     "output_type": "stream",
     "text": [
      "C:\\Users\\almal\\AppData\\Local\\Temp\\ipykernel_13244\\4285823239.py:1: SettingWithCopyWarning: \n",
      "A value is trying to be set on a copy of a slice from a DataFrame.\n",
      "Try using .loc[row_indexer,col_indexer] = value instead\n",
      "\n",
      "See the caveats in the documentation: https://pandas.pydata.org/pandas-docs/stable/user_guide/indexing.html#returning-a-view-versus-a-copy\n",
      "  df['job_tasks'] = df['job_tasks'].str.replace(\"['\", \"\", regex=False)\n"
     ]
    }
   ],
   "source": [
    "df['job_tasks'] = df['job_tasks'].str.replace(\"['\", \"\", regex=False)"
   ]
  },
  {
   "cell_type": "code",
   "execution_count": 850,
   "id": "4b400d14-01a7-446f-9415-ea656c47e7d5",
   "metadata": {},
   "outputs": [
    {
     "name": "stderr",
     "output_type": "stream",
     "text": [
      "C:\\Users\\almal\\AppData\\Local\\Temp\\ipykernel_13244\\131982667.py:1: SettingWithCopyWarning: \n",
      "A value is trying to be set on a copy of a slice from a DataFrame.\n",
      "Try using .loc[row_indexer,col_indexer] = value instead\n",
      "\n",
      "See the caveats in the documentation: https://pandas.pydata.org/pandas-docs/stable/user_guide/indexing.html#returning-a-view-versus-a-copy\n",
      "  df['job_tasks'] = df['job_tasks'].str.replace(\"']\", \"\", regex=False)\n"
     ]
    }
   ],
   "source": [
    "df['job_tasks'] = df['job_tasks'].str.replace(\"']\", \"\", regex=False)"
   ]
  },
  {
   "cell_type": "code",
   "execution_count": 852,
   "id": "2b71ccfa-fbbf-421e-b4f0-83b2188e46b5",
   "metadata": {},
   "outputs": [
    {
     "name": "stderr",
     "output_type": "stream",
     "text": [
      "C:\\Users\\almal\\AppData\\Local\\Temp\\ipykernel_13244\\3751663586.py:1: SettingWithCopyWarning: \n",
      "A value is trying to be set on a copy of a slice from a DataFrame.\n",
      "Try using .loc[row_indexer,col_indexer] = value instead\n",
      "\n",
      "See the caveats in the documentation: https://pandas.pydata.org/pandas-docs/stable/user_guide/indexing.html#returning-a-view-versus-a-copy\n",
      "  df['city'] = df['city'].map(lambda x: x.split(' ')[1] if ' ' in x else x)\n"
     ]
    }
   ],
   "source": [
    "df['city'] = df['city'].map(lambda x: x.split(' ')[1] if ' ' in x else x)"
   ]
  },
  {
   "cell_type": "code",
   "execution_count": 854,
   "id": "a61a7416-2bf0-4b7c-90bf-884ef76c29bf",
   "metadata": {},
   "outputs": [
    {
     "name": "stderr",
     "output_type": "stream",
     "text": [
      "C:\\Users\\almal\\AppData\\Local\\Temp\\ipykernel_13244\\3818776343.py:1: SettingWithCopyWarning: \n",
      "A value is trying to be set on a copy of a slice from a DataFrame.\n",
      "Try using .loc[row_indexer,col_indexer] = value instead\n",
      "\n",
      "See the caveats in the documentation: https://pandas.pydata.org/pandas-docs/stable/user_guide/indexing.html#returning-a-view-versus-a-copy\n",
      "  df['city'] = df['city'].str.replace(\"...\", \"\", regex=False)\n"
     ]
    }
   ],
   "source": [
    "df['city'] = df['city'].str.replace(\"...\", \"\", regex=False)"
   ]
  },
  {
   "cell_type": "code",
   "execution_count": 856,
   "id": "5adc2bd6-33b9-4b24-b330-ba27a8a17380",
   "metadata": {},
   "outputs": [
    {
     "name": "stderr",
     "output_type": "stream",
     "text": [
      "C:\\Users\\almal\\AppData\\Local\\Temp\\ipykernel_13244\\3500232881.py:1: SettingWithCopyWarning: \n",
      "A value is trying to be set on a copy of a slice from a DataFrame.\n",
      "Try using .loc[row_indexer,col_indexer] = value instead\n",
      "\n",
      "See the caveats in the documentation: https://pandas.pydata.org/pandas-docs/stable/user_guide/indexing.html#returning-a-view-versus-a-copy\n",
      "  df['city'] = df['city'].str.replace(\"'\", \"\", regex=False)\n"
     ]
    }
   ],
   "source": [
    "df['city'] = df['city'].str.replace(\"'\", \"\", regex=False)"
   ]
  },
  {
   "cell_type": "code",
   "execution_count": 858,
   "id": "93a6896c-d208-4a5c-a44f-6efcfdfd266e",
   "metadata": {},
   "outputs": [],
   "source": [
    "# I chose to let the 'qualif' column remain unchanged until it's needed with job_desc and job_tasks"
   ]
  },
  {
   "cell_type": "code",
   "execution_count": 860,
   "id": "3ee9b0db-7d59-4b51-8a30-ef3ae885c317",
   "metadata": {},
   "outputs": [
    {
     "data": {
      "text/html": [
       "<div>\n",
       "<style scoped>\n",
       "    .dataframe tbody tr th:only-of-type {\n",
       "        vertical-align: middle;\n",
       "    }\n",
       "\n",
       "    .dataframe tbody tr th {\n",
       "        vertical-align: top;\n",
       "    }\n",
       "\n",
       "    .dataframe thead th {\n",
       "        text-align: right;\n",
       "    }\n",
       "</style>\n",
       "<table border=\"1\" class=\"dataframe\">\n",
       "  <thead>\n",
       "    <tr style=\"text-align: right;\">\n",
       "      <th></th>\n",
       "      <th>job_title</th>\n",
       "      <th>job_desc</th>\n",
       "      <th>job_tasks</th>\n",
       "      <th>comp_name</th>\n",
       "      <th>comp_no</th>\n",
       "      <th>comp_type</th>\n",
       "      <th>comp_size</th>\n",
       "      <th>eco_activity</th>\n",
       "      <th>qualif</th>\n",
       "      <th>region</th>\n",
       "      <th>city</th>\n",
       "      <th>benefits</th>\n",
       "      <th>contract</th>\n",
       "      <th>positions</th>\n",
       "      <th>job_post_id</th>\n",
       "      <th>year of exper</th>\n",
       "      <th>gender</th>\n",
       "      <th>salary</th>\n",
       "    </tr>\n",
       "  </thead>\n",
       "  <tbody>\n",
       "    <tr>\n",
       "      <th>0</th>\n",
       "      <td>محاسب</td>\n",
       "      <td>إعداد وتنظيم مستندات الصرف ومتابعة تحصيل الإير...</td>\n",
       "      <td>تدقيق المطالبات المالية والتأكد من اكتمال ش...</td>\n",
       "      <td>شركة مقر العالم للسفريات</td>\n",
       "      <td>317262</td>\n",
       "      <td>خاص</td>\n",
       "      <td>متوسطة فئة أ</td>\n",
       "      <td>أنشطة وكالات السياحة والسفر</td>\n",
       "      <td>['Language data', 'اللغة الانجليزية', 'محترف']</td>\n",
       "      <td>الرياض</td>\n",
       "      <td>RIYADH</td>\n",
       "      <td>ليس هناك حوافز</td>\n",
       "      <td>دوام كامل</td>\n",
       "      <td>1</td>\n",
       "      <td>20202026350419</td>\n",
       "      <td>0</td>\n",
       "      <td>both</td>\n",
       "      <td>5000.0</td>\n",
       "    </tr>\n",
       "    <tr>\n",
       "      <th>1</th>\n",
       "      <td>بائع</td>\n",
       "      <td>بيع مجموعة من السلع والخدمات للعملاء، وتوفير ا...</td>\n",
       "      <td>بيع مجموعة من السلع والخدمات للعملاء.', '  ...</td>\n",
       "      <td>شركة عالم الكهرباء للمقاولات</td>\n",
       "      <td>1324428</td>\n",
       "      <td>خاص</td>\n",
       "      <td>متوسطة فئة ب</td>\n",
       "      <td>تركيب انظمة التبريد وتكييف الهواء وصيانتها واص...</td>\n",
       "      <td>ليس محدد</td>\n",
       "      <td>المنطقة الشرقية</td>\n",
       "      <td>DAMMAM</td>\n",
       "      <td>ليس هناك حوافز</td>\n",
       "      <td>دوام كامل</td>\n",
       "      <td>3</td>\n",
       "      <td>20202026350389</td>\n",
       "      <td>0</td>\n",
       "      <td>both</td>\n",
       "      <td>5000.0</td>\n",
       "    </tr>\n",
       "    <tr>\n",
       "      <th>2</th>\n",
       "      <td>أخصائي عمليات موارد بشرية</td>\n",
       "      <td>تنفيذ الإجراءات والأنظمة والنماذج الخاصة بمراق...</td>\n",
       "      <td>تنفيذ الإجراءات والأنظمة والنماذج الخاصة بم...</td>\n",
       "      <td>شركه دار السلام</td>\n",
       "      <td>155294</td>\n",
       "      <td>خاص</td>\n",
       "      <td>متوسطة فئة أ</td>\n",
       "      <td>ترميمات المباني السكنية والغير سكنية</td>\n",
       "      <td>['Language data', 'الانجليزيه', 'محترف']</td>\n",
       "      <td>الرياض</td>\n",
       "      <td>THUMA</td>\n",
       "      <td>ليس هناك حوافز</td>\n",
       "      <td>دوام كامل</td>\n",
       "      <td>2</td>\n",
       "      <td>20202026350347</td>\n",
       "      <td>2</td>\n",
       "      <td>both</td>\n",
       "      <td>4000.0</td>\n",
       "    </tr>\n",
       "    <tr>\n",
       "      <th>3</th>\n",
       "      <td>ميكانيكي سيارات</td>\n",
       "      <td>تشخيص أعطال السيارات وإصلاحها وتنفيذ برامج الص...</td>\n",
       "      <td>فحص أداء المعدّات الكهربائية والميكانيكية ل...</td>\n",
       "      <td>مؤسسة لمكو لغيار الزيوت</td>\n",
       "      <td>1925495</td>\n",
       "      <td>خاص</td>\n",
       "      <td>صغيرة فئة ب</td>\n",
       "      <td>غير معروف</td>\n",
       "      <td>['Skill data', 'صيانة السيارات وتقييم الاعطال'...</td>\n",
       "      <td>المنطقة الشرقية</td>\n",
       "      <td>HUFUF</td>\n",
       "      <td>ليس هناك حوافز</td>\n",
       "      <td>دوام كامل</td>\n",
       "      <td>10</td>\n",
       "      <td>20202026350219</td>\n",
       "      <td>0</td>\n",
       "      <td>M</td>\n",
       "      <td>5000.0</td>\n",
       "    </tr>\n",
       "    <tr>\n",
       "      <th>4</th>\n",
       "      <td>محاسب</td>\n",
       "      <td>إعداد وتنظيم مستندات الصرف ومتابعة تحصيل الإير...</td>\n",
       "      <td>تدقيق المطالبات المالية والتأكد من اكتمال ش...</td>\n",
       "      <td>مؤسسة فكرة اليمامة للمقاولات</td>\n",
       "      <td>2356639</td>\n",
       "      <td>خاص</td>\n",
       "      <td>كبيرة</td>\n",
       "      <td>الإنشاءات العامة للمباني السكنية</td>\n",
       "      <td>['Skill data', 'تحمل ضغط العمل', 'محترف', 'Lan...</td>\n",
       "      <td>الرياض</td>\n",
       "      <td>RIYADH</td>\n",
       "      <td>ليس هناك حوافز</td>\n",
       "      <td>دوام كامل</td>\n",
       "      <td>1</td>\n",
       "      <td>20202026350043</td>\n",
       "      <td>0</td>\n",
       "      <td>both</td>\n",
       "      <td>5000.0</td>\n",
       "    </tr>\n",
       "    <tr>\n",
       "      <th>...</th>\n",
       "      <td>...</td>\n",
       "      <td>...</td>\n",
       "      <td>...</td>\n",
       "      <td>...</td>\n",
       "      <td>...</td>\n",
       "      <td>...</td>\n",
       "      <td>...</td>\n",
       "      <td>...</td>\n",
       "      <td>...</td>\n",
       "      <td>...</td>\n",
       "      <td>...</td>\n",
       "      <td>...</td>\n",
       "      <td>...</td>\n",
       "      <td>...</td>\n",
       "      <td>...</td>\n",
       "      <td>...</td>\n",
       "      <td>...</td>\n",
       "      <td>...</td>\n",
       "    </tr>\n",
       "    <tr>\n",
       "      <th>1464</th>\n",
       "      <td>بائع</td>\n",
       "      <td>بيع مجموعة من السلع والخدمات للعملاء، وتوفير ا...</td>\n",
       "      <td>بيع مجموعة من السلع والخدمات للعملاء.', '  ...</td>\n",
       "      <td>شركة النجمة الذهبية للتبريد والتكييف شركة شخص ...</td>\n",
       "      <td>1977608</td>\n",
       "      <td>خاص</td>\n",
       "      <td>صغيرة فئة ب</td>\n",
       "      <td>تركيب انظمة التبريد وتكييف الهواء وصيانتها واص...</td>\n",
       "      <td>ليس محدد</td>\n",
       "      <td>المنطقة الشرقية</td>\n",
       "      <td>HUFUF</td>\n",
       "      <td>ليس هناك حوافز</td>\n",
       "      <td>دوام كامل</td>\n",
       "      <td>1</td>\n",
       "      <td>20202026401107</td>\n",
       "      <td>2</td>\n",
       "      <td>F</td>\n",
       "      <td>4000.0</td>\n",
       "    </tr>\n",
       "    <tr>\n",
       "      <th>1465</th>\n",
       "      <td>مهندس تقنية معلومات</td>\n",
       "      <td>دراسة احتياجات العميل من الأجهزة الحاسوبية وبر...</td>\n",
       "      <td>متابعة وتقييم عملية جمع وتحليل المعطيات وتط...</td>\n",
       "      <td>مطعم الاوراق الخضر لتقديم الوجبات</td>\n",
       "      <td>1698448</td>\n",
       "      <td>خاص</td>\n",
       "      <td>صغيرة فئة ب</td>\n",
       "      <td>المطاعم مع الخدمة</td>\n",
       "      <td>ليس محدد</td>\n",
       "      <td>الرياض</td>\n",
       "      <td>RIYADH</td>\n",
       "      <td>ليس هناك حوافز</td>\n",
       "      <td>دوام كامل</td>\n",
       "      <td>1</td>\n",
       "      <td>20202026400353</td>\n",
       "      <td>0</td>\n",
       "      <td>both</td>\n",
       "      <td>5500.0</td>\n",
       "    </tr>\n",
       "    <tr>\n",
       "      <th>1466</th>\n",
       "      <td>سكرتير</td>\n",
       "      <td>دعم المدير أو الإدارة من خلال كتابة الوثائق وإ...</td>\n",
       "      <td>تدوين الملاحظات، التي يتم إملاؤها، بطريقة ا...</td>\n",
       "      <td>شركة ملتقى التجار لحاضنات و مسرعات الأعمال</td>\n",
       "      <td>2013930</td>\n",
       "      <td>خاص</td>\n",
       "      <td>صغيرة فئة ب</td>\n",
       "      <td>أنشطة حاضنات ومسرعات الأعمال</td>\n",
       "      <td>['Skill data', 'فن التواصل', 'محترف', 'Languag...</td>\n",
       "      <td>مكة المكرمة</td>\n",
       "      <td>JEDDAH</td>\n",
       "      <td>ليس هناك حوافز</td>\n",
       "      <td>دوام كامل</td>\n",
       "      <td>1</td>\n",
       "      <td>20202026399849</td>\n",
       "      <td>2</td>\n",
       "      <td>both</td>\n",
       "      <td>4000.0</td>\n",
       "    </tr>\n",
       "    <tr>\n",
       "      <th>1467</th>\n",
       "      <td>صيدلي</td>\n",
       "      <td>دراسة التركيبات الدوائية للعقاقير والعلاجات وت...</td>\n",
       "      <td>دراسة مواصفات وتركيبات الادوية والعقاقير وا...</td>\n",
       "      <td>شركة تقنية الدواجن والألبان للتجارة</td>\n",
       "      <td>2415250</td>\n",
       "      <td>خاص</td>\n",
       "      <td>صغيرة فئة ب</td>\n",
       "      <td>غير معروف</td>\n",
       "      <td>['Professional certificate \\\\ License data', '...</td>\n",
       "      <td>الرياض</td>\n",
       "      <td>RIYADH</td>\n",
       "      <td>ليس هناك حوافز</td>\n",
       "      <td>دوام كامل</td>\n",
       "      <td>1</td>\n",
       "      <td>20202026399061</td>\n",
       "      <td>0</td>\n",
       "      <td>both</td>\n",
       "      <td>7000.0</td>\n",
       "    </tr>\n",
       "    <tr>\n",
       "      <th>1468</th>\n",
       "      <td>مشغل آلة تشطيب رخام</td>\n",
       "      <td>تشغيل آلة تشطيب الرخام وابعادء الأجزاء المتفتف...</td>\n",
       "      <td>تسوية الرخام بواسطة أقراص الألماس الحديدية'...</td>\n",
       "      <td>مصنع عبدالرحمن بن محمد بن عبدالعزيز العبدالقاد...</td>\n",
       "      <td>1971895</td>\n",
       "      <td>خاص</td>\n",
       "      <td>صغيرة فئة أ</td>\n",
       "      <td>غير معروف</td>\n",
       "      <td>['Skill data', 'متقن للعمل وشغوف ويرغب بالتطور...</td>\n",
       "      <td>المنطقة الشرقية</td>\n",
       "      <td>KHUBAR</td>\n",
       "      <td>اجازة سنوية 30 يوم</td>\n",
       "      <td>دوام كامل</td>\n",
       "      <td>3</td>\n",
       "      <td>20202026398972</td>\n",
       "      <td>0</td>\n",
       "      <td>M</td>\n",
       "      <td>4000.0</td>\n",
       "    </tr>\n",
       "  </tbody>\n",
       "</table>\n",
       "<p>1424 rows × 18 columns</p>\n",
       "</div>"
      ],
      "text/plain": [
       "                      job_title  \\\n",
       "0                         محاسب   \n",
       "1                          بائع   \n",
       "2     أخصائي عمليات موارد بشرية   \n",
       "3               ميكانيكي سيارات   \n",
       "4                         محاسب   \n",
       "...                         ...   \n",
       "1464                       بائع   \n",
       "1465        مهندس تقنية معلومات   \n",
       "1466                     سكرتير   \n",
       "1467                      صيدلي   \n",
       "1468        مشغل آلة تشطيب رخام   \n",
       "\n",
       "                                               job_desc  \\\n",
       "0     إعداد وتنظيم مستندات الصرف ومتابعة تحصيل الإير...   \n",
       "1     بيع مجموعة من السلع والخدمات للعملاء، وتوفير ا...   \n",
       "2     تنفيذ الإجراءات والأنظمة والنماذج الخاصة بمراق...   \n",
       "3     تشخيص أعطال السيارات وإصلاحها وتنفيذ برامج الص...   \n",
       "4     إعداد وتنظيم مستندات الصرف ومتابعة تحصيل الإير...   \n",
       "...                                                 ...   \n",
       "1464  بيع مجموعة من السلع والخدمات للعملاء، وتوفير ا...   \n",
       "1465  دراسة احتياجات العميل من الأجهزة الحاسوبية وبر...   \n",
       "1466  دعم المدير أو الإدارة من خلال كتابة الوثائق وإ...   \n",
       "1467  دراسة التركيبات الدوائية للعقاقير والعلاجات وت...   \n",
       "1468  تشغيل آلة تشطيب الرخام وابعادء الأجزاء المتفتف...   \n",
       "\n",
       "                                              job_tasks  \\\n",
       "0        تدقيق المطالبات المالية والتأكد من اكتمال ش...   \n",
       "1        بيع مجموعة من السلع والخدمات للعملاء.', '  ...   \n",
       "2        تنفيذ الإجراءات والأنظمة والنماذج الخاصة بم...   \n",
       "3        فحص أداء المعدّات الكهربائية والميكانيكية ل...   \n",
       "4        تدقيق المطالبات المالية والتأكد من اكتمال ش...   \n",
       "...                                                 ...   \n",
       "1464     بيع مجموعة من السلع والخدمات للعملاء.', '  ...   \n",
       "1465     متابعة وتقييم عملية جمع وتحليل المعطيات وتط...   \n",
       "1466     تدوين الملاحظات، التي يتم إملاؤها، بطريقة ا...   \n",
       "1467     دراسة مواصفات وتركيبات الادوية والعقاقير وا...   \n",
       "1468     تسوية الرخام بواسطة أقراص الألماس الحديدية'...   \n",
       "\n",
       "                                              comp_name  comp_no comp_type  \\\n",
       "0                              شركة مقر العالم للسفريات   317262       خاص   \n",
       "1                          شركة عالم الكهرباء للمقاولات  1324428       خاص   \n",
       "2                                       شركه دار السلام   155294       خاص   \n",
       "3                               مؤسسة لمكو لغيار الزيوت  1925495       خاص   \n",
       "4                          مؤسسة فكرة اليمامة للمقاولات  2356639       خاص   \n",
       "...                                                 ...      ...       ...   \n",
       "1464  شركة النجمة الذهبية للتبريد والتكييف شركة شخص ...  1977608       خاص   \n",
       "1465                  مطعم الاوراق الخضر لتقديم الوجبات  1698448       خاص   \n",
       "1466         شركة ملتقى التجار لحاضنات و مسرعات الأعمال  2013930       خاص   \n",
       "1467                شركة تقنية الدواجن والألبان للتجارة  2415250       خاص   \n",
       "1468  مصنع عبدالرحمن بن محمد بن عبدالعزيز العبدالقاد...  1971895       خاص   \n",
       "\n",
       "         comp_size                                       eco_activity  \\\n",
       "0     متوسطة فئة أ                        أنشطة وكالات السياحة والسفر   \n",
       "1     متوسطة فئة ب  تركيب انظمة التبريد وتكييف الهواء وصيانتها واص...   \n",
       "2     متوسطة فئة أ               ترميمات المباني السكنية والغير سكنية   \n",
       "3      صغيرة فئة ب                                          غير معروف   \n",
       "4            كبيرة                   الإنشاءات العامة للمباني السكنية   \n",
       "...            ...                                                ...   \n",
       "1464   صغيرة فئة ب  تركيب انظمة التبريد وتكييف الهواء وصيانتها واص...   \n",
       "1465   صغيرة فئة ب                                  المطاعم مع الخدمة   \n",
       "1466   صغيرة فئة ب                       أنشطة حاضنات ومسرعات الأعمال   \n",
       "1467   صغيرة فئة ب                                          غير معروف   \n",
       "1468   صغيرة فئة أ                                          غير معروف   \n",
       "\n",
       "                                                 qualif           region  \\\n",
       "0        ['Language data', 'اللغة الانجليزية', 'محترف']           الرياض   \n",
       "1                                              ليس محدد  المنطقة الشرقية   \n",
       "2              ['Language data', 'الانجليزيه', 'محترف']           الرياض   \n",
       "3     ['Skill data', 'صيانة السيارات وتقييم الاعطال'...  المنطقة الشرقية   \n",
       "4     ['Skill data', 'تحمل ضغط العمل', 'محترف', 'Lan...           الرياض   \n",
       "...                                                 ...              ...   \n",
       "1464                                           ليس محدد  المنطقة الشرقية   \n",
       "1465                                           ليس محدد           الرياض   \n",
       "1466  ['Skill data', 'فن التواصل', 'محترف', 'Languag...      مكة المكرمة   \n",
       "1467  ['Professional certificate \\\\ License data', '...           الرياض   \n",
       "1468  ['Skill data', 'متقن للعمل وشغوف ويرغب بالتطور...  المنطقة الشرقية   \n",
       "\n",
       "        city              benefits   contract  positions     job_post_id  \\\n",
       "0     RIYADH        ليس هناك حوافز  دوام كامل          1  20202026350419   \n",
       "1     DAMMAM        ليس هناك حوافز  دوام كامل          3  20202026350389   \n",
       "2      THUMA        ليس هناك حوافز  دوام كامل          2  20202026350347   \n",
       "3      HUFUF        ليس هناك حوافز  دوام كامل         10  20202026350219   \n",
       "4     RIYADH        ليس هناك حوافز  دوام كامل          1  20202026350043   \n",
       "...      ...                   ...        ...        ...             ...   \n",
       "1464   HUFUF        ليس هناك حوافز  دوام كامل          1  20202026401107   \n",
       "1465  RIYADH        ليس هناك حوافز  دوام كامل          1  20202026400353   \n",
       "1466  JEDDAH        ليس هناك حوافز  دوام كامل          1  20202026399849   \n",
       "1467  RIYADH        ليس هناك حوافز  دوام كامل          1  20202026399061   \n",
       "1468  KHUBAR   اجازة سنوية 30 يوم   دوام كامل          3  20202026398972   \n",
       "\n",
       "      year of exper gender  salary  \n",
       "0                 0   both  5000.0  \n",
       "1                 0   both  5000.0  \n",
       "2                 2   both  4000.0  \n",
       "3                 0      M  5000.0  \n",
       "4                 0   both  5000.0  \n",
       "...             ...    ...     ...  \n",
       "1464              2      F  4000.0  \n",
       "1465              0   both  5500.0  \n",
       "1466              2   both  4000.0  \n",
       "1467              0   both  7000.0  \n",
       "1468              0      M  4000.0  \n",
       "\n",
       "[1424 rows x 18 columns]"
      ]
     },
     "execution_count": 860,
     "metadata": {},
     "output_type": "execute_result"
    }
   ],
   "source": [
    "df"
   ]
  },
  {
   "cell_type": "markdown",
   "id": "4b1c754f-226d-4888-80ae-0e3c2bfeffaf",
   "metadata": {},
   "source": [
    "**Dealing with outliers:**"
   ]
  },
  {
   "cell_type": "markdown",
   "id": "98548b66-e309-4eb8-a5dc-65fe0abbf1e8",
   "metadata": {},
   "source": [
    "## 3. Univariate Analysis: "
   ]
  },
  {
   "cell_type": "markdown",
   "id": "d6718111-7ac2-4fff-9851-654655b62e0b",
   "metadata": {},
   "source": [
    "### 1. Univariate Graphical Analysis:"
   ]
  },
  {
   "cell_type": "code",
   "execution_count": 865,
   "id": "18726498-8a50-4093-a5f8-cec2ab25efcd",
   "metadata": {},
   "outputs": [
    {
     "data": {
      "text/plain": [
       "gender\n",
       "both    569\n",
       "M       463\n",
       "F       392\n",
       "Name: count, dtype: int64"
      ]
     },
     "execution_count": 865,
     "metadata": {},
     "output_type": "execute_result"
    }
   ],
   "source": [
    "#Analysis gender column\n",
    "gender = df['gender'].value_counts()\n",
    "gender"
   ]
  },
  {
   "cell_type": "code",
   "execution_count": 867,
   "id": "db79d803-b75c-4686-a623-e8420321a90f",
   "metadata": {},
   "outputs": [
    {
     "data": {
      "image/png": "[encoded data removed]",
      "text/plain": [
       "<Figure size 640x480 with 1 Axes>"
      ]
     },
     "metadata": {},
     "output_type": "display_data"
    }
   ],
   "source": [
    "plt.pie(x=gender.values,\n",
    "        labels=gender.index,\n",
    "        startangle=90,\n",
    "        shadow=True,\n",
    "        explode = [0.1,0.1 , 0.1],\n",
    "        colors = ['#ffbcd9','#87ceeb','#fba0e3']\n",
    "       )\n",
    "plt.savefig('women.png')\n",
    "plt.show()"
   ]
  },
  {
   "cell_type": "code",
   "execution_count": 869,
   "id": "7a7fcf8b-750a-43e0-b32d-aa22df978980",
   "metadata": {},
   "outputs": [
    {
     "data": {
      "image/png": "[encoded data removed]",
      "text/plain": [
       "<Figure size 1000x600 with 1 Axes>"
      ]
     },
     "metadata": {},
     "output_type": "display_data"
    }
   ],
   "source": [
    "#To see the salary frequency - before cutting-\n",
    "plt.figure(figsize=(10, 6))\n",
    "plt.hist(df['positions'],\n",
    "         bins = 40,\n",
    "         color = '#fba0e3'\n",
    "         )\n",
    "plt.xlabel('salary')\n",
    "plt.ylabel('Frequency')\n",
    "plt.title(f'Histogram of salary')\n",
    "plt.show()"
   ]
  },
  {
   "cell_type": "code",
   "execution_count": 879,
   "id": "f7a00724-ef75-424c-836c-118df55f2fa9",
   "metadata": {},
   "outputs": [
    {
     "data": {
      "image/png": "[encoded data removed]",
      "text/plain": [
       "<Figure size 1000x600 with 1 Axes>"
      ]
     },
     "metadata": {},
     "output_type": "display_data"
    }
   ],
   "source": [
    "#To see the salary frequency - before cutting-\n",
    "plt.figure(figsize=(10, 6))\n",
    "plt.hist(df['salary'],\n",
    "         bins = 40,\n",
    "         color = '#fba0e3'\n",
    "         )\n",
    "plt.xlabel('salary')\n",
    "plt.ylabel('Frequency')\n",
    "plt.title(f'Histogram of salary')\n",
    "plt.show()"
   ]
  },
  {
   "cell_type": "code",
   "execution_count": 881,
   "id": "9b9c354e-7a2f-4e82-a042-e601990fa3c9",
   "metadata": {},
   "outputs": [
    {
     "data": {
      "image/png": "[encoded data removed]",
      "text/plain": [
       "<Figure size 1000x600 with 1 Axes>"
      ]
     },
     "metadata": {},
     "output_type": "display_data"
    }
   ],
   "source": [
    "#To see the salary frequency - after cutting- we can se that most salary around 4000\n",
    "filtered_salaries = df[df['salary'] <= 15000]['salary']\n",
    "\n",
    "plt.figure(figsize=(10, 6))\n",
    "plt.hist(filtered_salaries, bins=40, color='#fba0e3')\n",
    "plt.xlabel('Salary')\n",
    "plt.ylabel('Frequency')\n",
    "plt.title('Histogram of Salary (<= 15000)')\n",
    "plt.show()"
   ]
  },
  {
   "cell_type": "code",
   "execution_count": 883,
   "id": "04db5c77-11e0-4822-85f7-d8bdc64b1dc9",
   "metadata": {},
   "outputs": [
    {
     "data": {
      "image/png": "[encoded data removed]",
      "text/plain": [
       "<Figure size 1500x800 with 1 Axes>"
      ]
     },
     "metadata": {},
     "output_type": "display_data"
    }
   ],
   "source": [
    "#Box plot before cutting\n",
    "plt.figure(figsize=(15,8))\n",
    "plt.boxplot(df['salary'])\n",
    "plt.xlabel('salary')\n",
    "\n",
    "plt.title(f'Box plot of salary')\n",
    "plt.show()"
   ]
  },
  {
   "cell_type": "code",
   "execution_count": 885,
   "id": "d2960f4d-24d7-4c1d-8a93-b7db2c31a712",
   "metadata": {},
   "outputs": [
    {
     "data": {
      "image/png": "[encoded data removed]",
      "text/plain": [
       "<Figure size 1500x800 with 1 Axes>"
      ]
     },
     "metadata": {},
     "output_type": "display_data"
    }
   ],
   "source": [
    "#Box plot after cutting\n",
    "plt.figure(figsize=(15,8))\n",
    "plt.boxplot(filtered_salaries)\n",
    "plt.xlabel('salary')\n",
    "\n",
    "plt.title(f'Box plot of salary')\n",
    "plt.show()"
   ]
  },
  {
   "cell_type": "markdown",
   "id": "d66677d3-44ad-414f-9b39-f9c1995ad043",
   "metadata": {},
   "source": [
    "### 2. Univariate Non-Graphical analysis: "
   ]
  },
  {
   "cell_type": "code",
   "execution_count": 888,
   "id": "f1058d84-e61e-4f5b-b66a-29931e77821b",
   "metadata": {},
   "outputs": [
    {
     "data": {
      "text/html": [
       "<div>\n",
       "<style scoped>\n",
       "    .dataframe tbody tr th:only-of-type {\n",
       "        vertical-align: middle;\n",
       "    }\n",
       "\n",
       "    .dataframe tbody tr th {\n",
       "        vertical-align: top;\n",
       "    }\n",
       "\n",
       "    .dataframe thead th {\n",
       "        text-align: right;\n",
       "    }\n",
       "</style>\n",
       "<table border=\"1\" class=\"dataframe\">\n",
       "  <thead>\n",
       "    <tr style=\"text-align: right;\">\n",
       "      <th></th>\n",
       "      <th>count</th>\n",
       "      <th>mean</th>\n",
       "      <th>std</th>\n",
       "      <th>min</th>\n",
       "      <th>25%</th>\n",
       "      <th>50%</th>\n",
       "      <th>75%</th>\n",
       "      <th>max</th>\n",
       "    </tr>\n",
       "  </thead>\n",
       "  <tbody>\n",
       "    <tr>\n",
       "      <th>comp_no</th>\n",
       "      <td>1424.0</td>\n",
       "      <td>1.446260e+06</td>\n",
       "      <td>873256.587736</td>\n",
       "      <td>1.180000e+02</td>\n",
       "      <td>3.300530e+05</td>\n",
       "      <td>1.947132e+06</td>\n",
       "      <td>2.042663e+06</td>\n",
       "      <td>2.665720e+06</td>\n",
       "    </tr>\n",
       "    <tr>\n",
       "      <th>positions</th>\n",
       "      <td>1424.0</td>\n",
       "      <td>2.949438e+00</td>\n",
       "      <td>6.375482</td>\n",
       "      <td>1.000000e+00</td>\n",
       "      <td>1.000000e+00</td>\n",
       "      <td>1.000000e+00</td>\n",
       "      <td>2.000000e+00</td>\n",
       "      <td>5.000000e+01</td>\n",
       "    </tr>\n",
       "    <tr>\n",
       "      <th>job_post_id</th>\n",
       "      <td>1424.0</td>\n",
       "      <td>2.020203e+13</td>\n",
       "      <td>58951.642979</td>\n",
       "      <td>2.020203e+13</td>\n",
       "      <td>2.020203e+13</td>\n",
       "      <td>2.020203e+13</td>\n",
       "      <td>2.020203e+13</td>\n",
       "      <td>2.020203e+13</td>\n",
       "    </tr>\n",
       "    <tr>\n",
       "      <th>year of exper</th>\n",
       "      <td>1424.0</td>\n",
       "      <td>1.277388e+00</td>\n",
       "      <td>1.871755</td>\n",
       "      <td>0.000000e+00</td>\n",
       "      <td>0.000000e+00</td>\n",
       "      <td>0.000000e+00</td>\n",
       "      <td>2.000000e+00</td>\n",
       "      <td>1.200000e+01</td>\n",
       "    </tr>\n",
       "    <tr>\n",
       "      <th>salary</th>\n",
       "      <td>1424.0</td>\n",
       "      <td>5.285712e+03</td>\n",
       "      <td>2175.044157</td>\n",
       "      <td>3.000000e+03</td>\n",
       "      <td>4.000000e+03</td>\n",
       "      <td>4.500000e+03</td>\n",
       "      <td>6.000000e+03</td>\n",
       "      <td>3.500000e+04</td>\n",
       "    </tr>\n",
       "  </tbody>\n",
       "</table>\n",
       "</div>"
      ],
      "text/plain": [
       "                count          mean            std           min  \\\n",
       "comp_no        1424.0  1.446260e+06  873256.587736  1.180000e+02   \n",
       "positions      1424.0  2.949438e+00       6.375482  1.000000e+00   \n",
       "job_post_id    1424.0  2.020203e+13   58951.642979  2.020203e+13   \n",
       "year of exper  1424.0  1.277388e+00       1.871755  0.000000e+00   \n",
       "salary         1424.0  5.285712e+03    2175.044157  3.000000e+03   \n",
       "\n",
       "                        25%           50%           75%           max  \n",
       "comp_no        3.300530e+05  1.947132e+06  2.042663e+06  2.665720e+06  \n",
       "positions      1.000000e+00  1.000000e+00  2.000000e+00  5.000000e+01  \n",
       "job_post_id    2.020203e+13  2.020203e+13  2.020203e+13  2.020203e+13  \n",
       "year of exper  0.000000e+00  0.000000e+00  2.000000e+00  1.200000e+01  \n",
       "salary         4.000000e+03  4.500000e+03  6.000000e+03  3.500000e+04  "
      ]
     },
     "execution_count": 888,
     "metadata": {},
     "output_type": "execute_result"
    }
   ],
   "source": [
    "df.describe().T"
   ]
  },
  {
   "cell_type": "code",
   "execution_count": 890,
   "id": "ff22df18-3b06-45fa-a378-9fc2b846e05c",
   "metadata": {},
   "outputs": [
    {
     "name": "stdout",
     "output_type": "stream",
     "text": [
      "5285.712078651685\n",
      "2175.044157022577\n"
     ]
    }
   ],
   "source": [
    "print(df['salary'].mean())\n",
    "print(df['salary'].std())"
   ]
  },
  {
   "cell_type": "markdown",
   "id": "f09bb809-0edd-432b-bf23-abd0840b3e16",
   "metadata": {},
   "source": [
    "## 4. Bivariate/Multivariate Analysis:"
   ]
  },
  {
   "cell_type": "code",
   "execution_count": 893,
   "id": "57119eb2-1b67-457d-8209-c3b48a1a9852",
   "metadata": {},
   "outputs": [
    {
     "data": {
      "text/plain": [
       "<Axes: >"
      ]
     },
     "execution_count": 893,
     "metadata": {},
     "output_type": "execute_result"
    },
    {
     "data": {
      "image/png": "[encoded data removed]",
      "text/plain": [
       "<Figure size 1000x1000 with 2 Axes>"
      ]
     },
     "metadata": {},
     "output_type": "display_data"
    }
   ],
   "source": [
    "#Single-Target Correlation Heatmap between salary and all numeric features.\n",
    "numeric =  df.select_dtypes(include=['number'])\n",
    "fig, ax = plt.subplots(figsize = (10,10))\n",
    "sns.heatmap(numeric.corr()[['salary']].sort_values('salary', ascending = False),\n",
    "vmin = -1, vmax = +1, annot = True, ax = ax)"
   ]
  },
  {
   "cell_type": "code",
   "execution_count": 895,
   "id": "18c7285d-0a83-4756-983f-b457564690c0",
   "metadata": {},
   "outputs": [
    {
     "data": {
      "text/html": [
       "<div>\n",
       "<style scoped>\n",
       "    .dataframe tbody tr th:only-of-type {\n",
       "        vertical-align: middle;\n",
       "    }\n",
       "\n",
       "    .dataframe tbody tr th {\n",
       "        vertical-align: top;\n",
       "    }\n",
       "\n",
       "    .dataframe thead th {\n",
       "        text-align: right;\n",
       "    }\n",
       "</style>\n",
       "<table border=\"1\" class=\"dataframe\">\n",
       "  <thead>\n",
       "    <tr style=\"text-align: right;\">\n",
       "      <th></th>\n",
       "      <th>comp_no</th>\n",
       "      <th>positions</th>\n",
       "      <th>job_post_id</th>\n",
       "      <th>year of exper</th>\n",
       "      <th>salary</th>\n",
       "    </tr>\n",
       "  </thead>\n",
       "  <tbody>\n",
       "    <tr>\n",
       "      <th>comp_no</th>\n",
       "      <td>1.000000</td>\n",
       "      <td>0.015463</td>\n",
       "      <td>0.105885</td>\n",
       "      <td>-0.096295</td>\n",
       "      <td>-0.188534</td>\n",
       "    </tr>\n",
       "    <tr>\n",
       "      <th>positions</th>\n",
       "      <td>0.015463</td>\n",
       "      <td>1.000000</td>\n",
       "      <td>-0.071060</td>\n",
       "      <td>-0.062718</td>\n",
       "      <td>0.031598</td>\n",
       "    </tr>\n",
       "    <tr>\n",
       "      <th>job_post_id</th>\n",
       "      <td>0.105885</td>\n",
       "      <td>-0.071060</td>\n",
       "      <td>1.000000</td>\n",
       "      <td>0.007155</td>\n",
       "      <td>0.014725</td>\n",
       "    </tr>\n",
       "    <tr>\n",
       "      <th>year of exper</th>\n",
       "      <td>-0.096295</td>\n",
       "      <td>-0.062718</td>\n",
       "      <td>0.007155</td>\n",
       "      <td>1.000000</td>\n",
       "      <td>0.507827</td>\n",
       "    </tr>\n",
       "    <tr>\n",
       "      <th>salary</th>\n",
       "      <td>-0.188534</td>\n",
       "      <td>0.031598</td>\n",
       "      <td>0.014725</td>\n",
       "      <td>0.507827</td>\n",
       "      <td>1.000000</td>\n",
       "    </tr>\n",
       "  </tbody>\n",
       "</table>\n",
       "</div>"
      ],
      "text/plain": [
       "                comp_no  positions  job_post_id  year of exper    salary\n",
       "comp_no        1.000000   0.015463     0.105885      -0.096295 -0.188534\n",
       "positions      0.015463   1.000000    -0.071060      -0.062718  0.031598\n",
       "job_post_id    0.105885  -0.071060     1.000000       0.007155  0.014725\n",
       "year of exper -0.096295  -0.062718     0.007155       1.000000  0.507827\n",
       "salary        -0.188534   0.031598     0.014725       0.507827  1.000000"
      ]
     },
     "execution_count": 895,
     "metadata": {},
     "output_type": "execute_result"
    }
   ],
   "source": [
    "#Correlation Matrix\n",
    "corr_matrix = df.select_dtypes(include=np.number).corr()\n",
    "corr_matrix"
   ]
  },
  {
   "cell_type": "code",
   "execution_count": 897,
   "id": "7bce4331-e0d0-4a48-bf4a-6e65aa4b5108",
   "metadata": {},
   "outputs": [
    {
     "data": {
      "image/png": "[encoded data removed]",
      "text/plain": [
       "<Figure size 1000x800 with 2 Axes>"
      ]
     },
     "metadata": {},
     "output_type": "display_data"
    }
   ],
   "source": [
    "#Correlation Heatmap\n",
    "plt.figure(figsize=(10, 8))\n",
    "sns.heatmap(corr_matrix,\n",
    "            annot=True, \n",
    "            cmap='coolwarm',\n",
    "            fmt=\".1f\"\n",
    "           )\n",
    "\n",
    "# Show the plot\n",
    "plt.show()"
   ]
  },
  {
   "cell_type": "code",
   "execution_count": 899,
   "id": "b99388bb-817b-43f6-bc7a-5223a18a39b9",
   "metadata": {},
   "outputs": [
    {
     "data": {
      "image/png": "[encoded data removed]",
      "text/plain": [
       "<Figure size 1500x800 with 1 Axes>"
      ]
     },
     "metadata": {},
     "output_type": "display_data"
    }
   ],
   "source": [
    "#Before cutting\n",
    "plt.figure(figsize=(15,8))\n",
    "sns.countplot(x = 'gender', hue = 'salary', data = df);"
   ]
  },
  {
   "cell_type": "code",
   "execution_count": 900,
   "id": "3590e345-2051-4215-91ac-07d196b510ef",
   "metadata": {},
   "outputs": [
    {
     "data": {
      "image/png": "[encoded data removed]",
      "text/plain": [
       "<Figure size 640x480 with 1 Axes>"
      ]
     },
     "metadata": {},
     "output_type": "display_data"
    }
   ],
   "source": [
    "#Show the relationship between gender and salary\n",
    "sns.scatterplot(y='gender', x='salary',\n",
    "                color='#fba0e3',\n",
    "                data=df)\n",
    "\n",
    "\n",
    "\n",
    "# Show the plot\n",
    "plt.show()"
   ]
  },
  {
   "cell_type": "code",
   "execution_count": 903,
   "id": "352fb4dd-f106-49f2-8878-eda09afed6df",
   "metadata": {},
   "outputs": [
    {
     "data": {
      "text/plain": [
       "<Axes: ylabel='salary'>"
      ]
     },
     "execution_count": 903,
     "metadata": {},
     "output_type": "execute_result"
    },
    {
     "data": {
      "image/png": "[encoded data removed]",
      "text/plain": [
       "<Figure size 1500x800 with 1 Axes>"
      ]
     },
     "metadata": {},
     "output_type": "display_data"
    }
   ],
   "source": [
    "plt.figure(figsize=(15,8))\n",
    "\n",
    "sns.boxplot(\n",
    "    df,\n",
    "    y='salary',\n",
    "    hue=\"gender\")"
   ]
  },
  {
   "cell_type": "markdown",
   "id": "20aed48d-b78e-46da-963f-e7f15e2f4dc7",
   "metadata": {},
   "source": [
    "**numerical & numerical --> (Scatter plot, line chart)**"
   ]
  },
  {
   "cell_type": "code",
   "execution_count": 906,
   "id": "41023177-01cb-4f39-a750-12be71b13bda",
   "metadata": {},
   "outputs": [
    {
     "data": {
      "image/png": "[encoded data removed]",
      "text/plain": [
       "<Figure size 640x480 with 1 Axes>"
      ]
     },
     "metadata": {},
     "output_type": "display_data"
    }
   ],
   "source": [
    "#Show the relationship between year of exper and salary\n",
    "sns.scatterplot(y='year of exper', x='salary',\n",
    "                color ='#fba0e3',\n",
    "                data=df)\n",
    "\n",
    "# Show the plot\n",
    "plt.show()"
   ]
  },
  {
   "cell_type": "markdown",
   "id": "6cac0d90-6885-4016-99a9-c3700f25cf6f",
   "metadata": {},
   "source": [
    "#### Q1: What proportion of job postings is attributed to each region within the kingdom?"
   ]
  },
  {
   "cell_type": "code",
   "execution_count": 909,
   "id": "4f8fa635-ad00-4509-9c63-e411ceea3904",
   "metadata": {},
   "outputs": [
    {
     "data": {
      "text/html": [
       "<div>\n",
       "<style scoped>\n",
       "    .dataframe tbody tr th:only-of-type {\n",
       "        vertical-align: middle;\n",
       "    }\n",
       "\n",
       "    .dataframe tbody tr th {\n",
       "        vertical-align: top;\n",
       "    }\n",
       "\n",
       "    .dataframe thead th {\n",
       "        text-align: right;\n",
       "    }\n",
       "</style>\n",
       "<table border=\"1\" class=\"dataframe\">\n",
       "  <thead>\n",
       "    <tr style=\"text-align: right;\">\n",
       "      <th></th>\n",
       "      <th>region</th>\n",
       "      <th>positions</th>\n",
       "    </tr>\n",
       "  </thead>\n",
       "  <tbody>\n",
       "    <tr>\n",
       "      <th>0</th>\n",
       "      <td>الرياض</td>\n",
       "      <td>1</td>\n",
       "    </tr>\n",
       "    <tr>\n",
       "      <th>1</th>\n",
       "      <td>المنطقة الشرقية</td>\n",
       "      <td>3</td>\n",
       "    </tr>\n",
       "    <tr>\n",
       "      <th>2</th>\n",
       "      <td>الرياض</td>\n",
       "      <td>2</td>\n",
       "    </tr>\n",
       "    <tr>\n",
       "      <th>3</th>\n",
       "      <td>المنطقة الشرقية</td>\n",
       "      <td>10</td>\n",
       "    </tr>\n",
       "    <tr>\n",
       "      <th>4</th>\n",
       "      <td>الرياض</td>\n",
       "      <td>1</td>\n",
       "    </tr>\n",
       "    <tr>\n",
       "      <th>...</th>\n",
       "      <td>...</td>\n",
       "      <td>...</td>\n",
       "    </tr>\n",
       "    <tr>\n",
       "      <th>1464</th>\n",
       "      <td>المنطقة الشرقية</td>\n",
       "      <td>1</td>\n",
       "    </tr>\n",
       "    <tr>\n",
       "      <th>1465</th>\n",
       "      <td>الرياض</td>\n",
       "      <td>1</td>\n",
       "    </tr>\n",
       "    <tr>\n",
       "      <th>1466</th>\n",
       "      <td>مكة المكرمة</td>\n",
       "      <td>1</td>\n",
       "    </tr>\n",
       "    <tr>\n",
       "      <th>1467</th>\n",
       "      <td>الرياض</td>\n",
       "      <td>1</td>\n",
       "    </tr>\n",
       "    <tr>\n",
       "      <th>1468</th>\n",
       "      <td>المنطقة الشرقية</td>\n",
       "      <td>3</td>\n",
       "    </tr>\n",
       "  </tbody>\n",
       "</table>\n",
       "<p>1424 rows × 2 columns</p>\n",
       "</div>"
      ],
      "text/plain": [
       "               region  positions\n",
       "0              الرياض          1\n",
       "1     المنطقة الشرقية          3\n",
       "2              الرياض          2\n",
       "3     المنطقة الشرقية         10\n",
       "4              الرياض          1\n",
       "...               ...        ...\n",
       "1464  المنطقة الشرقية          1\n",
       "1465           الرياض          1\n",
       "1466      مكة المكرمة          1\n",
       "1467           الرياض          1\n",
       "1468  المنطقة الشرقية          3\n",
       "\n",
       "[1424 rows x 2 columns]"
      ]
     },
     "execution_count": 909,
     "metadata": {},
     "output_type": "execute_result"
    }
   ],
   "source": [
    "df[['region','positions']]"
   ]
  },
  {
   "cell_type": "code",
   "execution_count": 911,
   "id": "8e8f051e-50cf-4570-9410-2d40c0d24aa9",
   "metadata": {},
   "outputs": [
    {
     "name": "stderr",
     "output_type": "stream",
     "text": [
      "C:\\Users\\almal\\AppData\\Local\\Temp\\ipykernel_13244\\3681053625.py:1: SettingWithCopyWarning: \n",
      "A value is trying to be set on a copy of a slice from a DataFrame.\n",
      "Try using .loc[row_indexer,col_indexer] = value instead\n",
      "\n",
      "See the caveats in the documentation: https://pandas.pydata.org/pandas-docs/stable/user_guide/indexing.html#returning-a-view-versus-a-copy\n",
      "  df['region'] =  df['region'].apply(arabic_text)\n"
     ]
    },
    {
     "data": {
      "text/plain": [
       "region\n",
       "ﺓﺭﻮﻨﻤﻟﺍ ﺔﻨﻳﺪﻤﻟﺍ     139\n",
       "ﺔﺣﺎﺒﻟﺍ               74\n",
       "ﺔﻣﺮﻜﻤﻟﺍ ﺔﻜﻣ        1188\n",
       "ﺔﻴﻗﺮﺸﻟﺍ ﺔﻘﻄﻨﻤﻟﺍ     486\n",
       "ﺔﻴﻟﺎﻤﺸﻟﺍ ﺩﻭﺪﺤﻟﺍ      11\n",
       "ﺮﻴﺴﻋ                111\n",
       "ﺽﺎﻳﺮﻟﺍ             1890\n",
       "ﻑﻮﺠﻟﺍ                 6\n",
       "ﻙﻮﺒﺗ                 15\n",
       "ﻞﺋﺎﺣ                 80\n",
       "ﻢﻴﺼﻘﻟﺍ              119\n",
       "ﻥﺍﺮﺠﻧ                65\n",
       "ﻥﺍﺯﺎﺟ                13\n",
       "ﻯﺮﺧﺍ                  3\n",
       "Name: positions, dtype: int64"
      ]
     },
     "execution_count": 911,
     "metadata": {},
     "output_type": "execute_result"
    }
   ],
   "source": [
    "df['region'] =  df['region'].apply(arabic_text)\n",
    "region_positions = df.groupby('region')['positions'].sum()\n",
    "region_positions.index.name = 'region'\n",
    "region_positions"
   ]
  },
  {
   "cell_type": "code",
   "execution_count": 917,
   "id": "eaa050ce-197b-4800-96e4-be2b69c5457b",
   "metadata": {},
   "outputs": [
    {
     "data": {
      "image/png": "[encoded data removed]",
      "text/plain": [
       "<Figure size 800x800 with 1 Axes>"
      ]
     },
     "metadata": {},
     "output_type": "display_data"
    }
   ],
   "source": [
    "#Calculate proportions\n",
    "region_proportion = region_positions / region_positions.sum()\n",
    "\n",
    "#Regions that are less than 3% will replace it with 'Other' to be readable\n",
    "threshold = 0.03\n",
    "small_regions = region_proportion[region_proportion < threshold]\n",
    "other_total = small_regions.sum()\n",
    "\n",
    "plt.figure(figsize=(8, 8))\n",
    "plt.pie(region_updated,\n",
    "        labels=region_updated.index, \n",
    "        autopct='%1.1f%%',\n",
    "        startangle=140 , \n",
    "        colors = ['#ff9999','#66b3ff','#99ff99','#ffcc99','#fba0e3','#ffb3e6','#fba0e3'])\n",
    " #'#80ffff'\n",
    "plt.title('Proportion of Job Postings by Region')\n",
    "plt.savefig('riy.png')\n",
    "plt.show()"
   ]
  },
  {
   "cell_type": "markdown",
   "id": "dced482d-2754-451c-b088-0cb7ad4dc9ed",
   "metadata": {},
   "source": [
    "#### AnswerQ1: We can observe that the Riyadh region had the most job postings, accounting for 44.8% of the total.\r\n"
   ]
  },
  {
   "cell_type": "markdown",
   "id": "83b73f68-c01f-4e7e-bf27-ba3e1d580083",
   "metadata": {},
   "source": [
    "#### Q2:Is there a gender preference indicated in the job postings?"
   ]
  },
  {
   "cell_type": "code",
   "execution_count": 548,
   "id": "2c86dd2f-4e11-49d1-9346-fde4f5c350da",
   "metadata": {},
   "outputs": [
    {
     "data": {
      "image/png": "[encoded data removed]",
      "text/plain": [
       "<Figure size 640x480 with 1 Axes>"
      ]
     },
     "metadata": {},
     "output_type": "display_data"
    }
   ],
   "source": [
    "plt.pie(x=gender.values,\n",
    "        labels=gender.index,\n",
    "        startangle=90,\n",
    "        shadow=True,\n",
    "        explode = [0.1,0.1 , 0.1],\n",
    "        colors = ['#ffbcd9','#87ceeb','#fba0e3'],\n",
    "        autopct='%1.1f%%'\n",
    "       )\n",
    "plt.savefig('women.png')\n",
    "plt.show()"
   ]
  },
  {
   "cell_type": "code",
   "execution_count": 559,
   "id": "05d4e242-210f-444a-bf8e-78fdf3c76f87",
   "metadata": {},
   "outputs": [
    {
     "data": {
      "image/png": "[encoded data removed]",
      "text/plain": [
       "<Figure size 800x600 with 1 Axes>"
      ]
     },
     "metadata": {},
     "output_type": "display_data"
    }
   ],
   "source": [
    "gender_counts = df['gender'].value_counts()\n",
    "\n",
    "plt.figure(figsize=(8, 6))\n",
    "plt.bar(gender_counts.index, \n",
    "        gender_counts.values, \n",
    "        color = ['#ffbcd9','#87ceeb','#fba0e3']) \n",
    "plt.xlabel('Gender')\n",
    "plt.ylabel('Number of Job Postings')\n",
    "plt.title('Gender Preference in Job Postings')\n",
    "plt.grid(True)\n",
    "plt.show()"
   ]
  },
  {
   "cell_type": "markdown",
   "id": "1b4e0ab8-eaf4-45af-b98d-3a127f6b1a80",
   "metadata": {},
   "source": [
    "#### AnswerQ2: While males may seem to get more preference, the fact that 'both' is the top category makes it difficult to be certain.\n"
   ]
  },
  {
   "cell_type": "markdown",
   "id": "b0609d3a-7888-4de6-b50c-e0482673ac93",
   "metadata": {},
   "source": [
    "#### Q3: What is the expected salary range for fresh graduates?"
   ]
  },
  {
   "cell_type": "code",
   "execution_count": 582,
   "id": "34456138-b1cb-423a-9a6f-fe4bb22e59a9",
   "metadata": {},
   "outputs": [
    {
     "data": {
      "text/html": [
       "<div>\n",
       "<style scoped>\n",
       "    .dataframe tbody tr th:only-of-type {\n",
       "        vertical-align: middle;\n",
       "    }\n",
       "\n",
       "    .dataframe tbody tr th {\n",
       "        vertical-align: top;\n",
       "    }\n",
       "\n",
       "    .dataframe thead th {\n",
       "        text-align: right;\n",
       "    }\n",
       "</style>\n",
       "<table border=\"1\" class=\"dataframe\">\n",
       "  <thead>\n",
       "    <tr style=\"text-align: right;\">\n",
       "      <th></th>\n",
       "      <th>year of exper</th>\n",
       "      <th>salary</th>\n",
       "    </tr>\n",
       "  </thead>\n",
       "  <tbody>\n",
       "    <tr>\n",
       "      <th>0</th>\n",
       "      <td>0</td>\n",
       "      <td>5000.0</td>\n",
       "    </tr>\n",
       "    <tr>\n",
       "      <th>1</th>\n",
       "      <td>0</td>\n",
       "      <td>5000.0</td>\n",
       "    </tr>\n",
       "    <tr>\n",
       "      <th>3</th>\n",
       "      <td>0</td>\n",
       "      <td>5000.0</td>\n",
       "    </tr>\n",
       "    <tr>\n",
       "      <th>4</th>\n",
       "      <td>0</td>\n",
       "      <td>5000.0</td>\n",
       "    </tr>\n",
       "    <tr>\n",
       "      <th>5</th>\n",
       "      <td>0</td>\n",
       "      <td>4500.0</td>\n",
       "    </tr>\n",
       "    <tr>\n",
       "      <th>...</th>\n",
       "      <td>...</td>\n",
       "      <td>...</td>\n",
       "    </tr>\n",
       "    <tr>\n",
       "      <th>1463</th>\n",
       "      <td>0</td>\n",
       "      <td>4000.0</td>\n",
       "    </tr>\n",
       "    <tr>\n",
       "      <th>1465</th>\n",
       "      <td>0</td>\n",
       "      <td>5500.0</td>\n",
       "    </tr>\n",
       "    <tr>\n",
       "      <th>1467</th>\n",
       "      <td>0</td>\n",
       "      <td>7000.0</td>\n",
       "    </tr>\n",
       "    <tr>\n",
       "      <th>1468</th>\n",
       "      <td>0</td>\n",
       "      <td>4000.0</td>\n",
       "    </tr>\n",
       "    <tr>\n",
       "      <th>1469</th>\n",
       "      <td>0</td>\n",
       "      <td>7000.0</td>\n",
       "    </tr>\n",
       "  </tbody>\n",
       "</table>\n",
       "<p>833 rows × 2 columns</p>\n",
       "</div>"
      ],
      "text/plain": [
       "      year of exper  salary\n",
       "0                 0  5000.0\n",
       "1                 0  5000.0\n",
       "3                 0  5000.0\n",
       "4                 0  5000.0\n",
       "5                 0  4500.0\n",
       "...             ...     ...\n",
       "1463              0  4000.0\n",
       "1465              0  5500.0\n",
       "1467              0  7000.0\n",
       "1468              0  4000.0\n",
       "1469              0  7000.0\n",
       "\n",
       "[833 rows x 2 columns]"
      ]
     },
     "execution_count": 582,
     "metadata": {},
     "output_type": "execute_result"
    }
   ],
   "source": [
    "fresh_graduate = salary_df[salary_df['year of exper'] == 0]\n",
    "fresh_graduate"
   ]
  },
  {
   "cell_type": "code",
   "execution_count": 584,
   "id": "9bf988e7-1ea8-4f42-a1f4-fa7532f2296f",
   "metadata": {},
   "outputs": [
    {
     "data": {
      "text/plain": [
       "4712.236494597839"
      ]
     },
     "execution_count": 584,
     "metadata": {},
     "output_type": "execute_result"
    }
   ],
   "source": [
    "fresh_graduate['salary'].mean()"
   ]
  },
  {
   "cell_type": "code",
   "execution_count": 623,
   "id": "a486bd0d-63ba-4540-95ca-d9656415aa61",
   "metadata": {},
   "outputs": [
    {
     "data": {
      "image/png": "[encoded data removed]",
      "text/plain": [
       "<Figure size 800x600 with 1 Axes>"
      ]
     },
     "metadata": {},
     "output_type": "display_data"
    }
   ],
   "source": [
    "plt.figure(figsize=(8, 6))\n",
    "sns.histplot(fresh_graduate['salary'], bins=10, kde=True, color='#fba0e3')\n",
    "plt.title('Salary Distribution for Fresh Graduates')\n",
    "plt.xlabel('Salary')\n",
    "plt.ylabel('Frequency')\n",
    "plt.show()"
   ]
  },
  {
   "cell_type": "markdown",
   "id": "c45e9c89-2a91-45bb-aa88-6814ddcf4f65",
   "metadata": {},
   "source": [
    "#### Answer Q3: The average salary is approximately 4,712.24.\n"
   ]
  },
  {
   "cell_type": "markdown",
   "id": "e6516ee4-12eb-4299-a17b-884d01d04c56",
   "metadata": {},
   "source": [
    "#### Q4: Are job opportunities predominantly targeted at individuals with experience, or  is there room for fresh graduates as well?"
   ]
  },
  {
   "cell_type": "code",
   "execution_count": 589,
   "id": "f1995334-22f3-4d4c-9bf5-2564bc9966cf",
   "metadata": {},
   "outputs": [],
   "source": [
    "experienced = df[df['year of exper'] > 0]\n",
    "\n",
    "fresh_graduate_count = len(fresh_graduate)\n",
    "experienced_count = len(experienced)\n",
    "\n",
    "total_jobs = fresh_graduate_count + experienced_count\n",
    "fresh_graduate_proportion = fresh_graduate_count / total_jobs\n",
    "experienced_proportion = experienced_count / total_jobs"
   ]
  },
  {
   "cell_type": "code",
   "execution_count": 591,
   "id": "7ff1066f-6566-477f-a111-6fcdefdbac8d",
   "metadata": {},
   "outputs": [
    {
     "data": {
      "image/png": "[encoded data removed]",
      "text/plain": [
       "<Figure size 800x600 with 1 Axes>"
      ]
     },
     "metadata": {},
     "output_type": "display_data"
    }
   ],
   "source": [
    "labels = ['Fresh Graduates', 'Experienced']\n",
    "counts = [fresh_graduate_count, experienced_count]\n",
    "\n",
    "plt.figure(figsize=(8, 6))\n",
    "plt.bar(labels, counts, color=['#fba0e3', '#ffbcd9'])\n",
    "plt.title('Job Opportunities: Fresh Graduates vs. Experienced Individuals')\n",
    "plt.xlabel('Category')\n",
    "plt.ylabel('Number of Job Postings')\n",
    "plt.savefig('job.png')\n",
    "plt.show()"
   ]
  },
  {
   "cell_type": "markdown",
   "id": "2327a9f4-9b37-4b13-9fee-2bef549aa9c3",
   "metadata": {},
   "source": [
    "#### AnswerQ4: The bar show that there is room for fresh graduates."
   ]
  },
  {
   "cell_type": "markdown",
   "id": "5f1224ee-bd36-4f57-931d-1793c5dd2e34",
   "metadata": {},
   "source": [
    "#### Q5: Which are the top 5 most posted jobs?"
   ]
  },
  {
   "cell_type": "code",
   "execution_count": 611,
   "id": "7a6ac0d0-b402-430c-820c-c214dfa6aff9",
   "metadata": {},
   "outputs": [],
   "source": [
    "df['job_title'] =  df['job_title'].apply(arabic_text)"
   ]
  },
  {
   "cell_type": "code",
   "execution_count": 613,
   "id": "4f175c7c-5bb2-4e47-9559-76ddb4be765a",
   "metadata": {},
   "outputs": [
    {
     "data": {
      "text/plain": [
       "job_title\n",
       "ﻊﺋﺎﺑ                   98\n",
       "ﺐﺳﺎﺤﻣ                  89\n",
       "ﻖﻳﻮﺴﺗ ﻲﺋﺎﺼﺧﺃ           54\n",
       "ﻱﺭﺍﺩﺇ ﺪﻋﺎﺴﻣ            45\n",
       "ﻝﺎﺒﻘﺘﺳﺍ ﻒﻇﻮﻣ           45\n",
       "                       ..\n",
       "ﺔﻴﺒﻃ ﺓﺰﻬﺟﺃ ﻲﻨﻓ          1\n",
       "ﻲﻧﺎﺒﻣ ﺔﻧﺎﻴﺻ ﻲﻨﻓ         1\n",
       "ﺮﺷﺎﺒﻣ ﻊﺋﺎﺑ              1\n",
       "ﺝﺎﺘﻧﺇ ﺱﺪﻨﻬﻣ             1\n",
       "ﻡﺎﺧﺭ ﺐﻴﻄﺸﺗ ﺔﻟﺁ ﻞﻐﺸﻣ     1\n",
       "Name: count, Length: 324, dtype: int64"
      ]
     },
     "execution_count": 613,
     "metadata": {},
     "output_type": "execute_result"
    }
   ],
   "source": [
    "most_requir_jop = df['job_title'].value_counts().sort_values(ascending=False)\n",
    "most_requir_jop"
   ]
  },
  {
   "cell_type": "code",
   "execution_count": 615,
   "id": "e45da2c4-019e-48d0-b166-89f510d3cf16",
   "metadata": {},
   "outputs": [
    {
     "data": {
      "text/plain": [
       "job_title\n",
       "ﻊﺋﺎﺑ            98\n",
       "ﺐﺳﺎﺤﻣ           89\n",
       "ﻖﻳﻮﺴﺗ ﻲﺋﺎﺼﺧﺃ    54\n",
       "ﻱﺭﺍﺩﺇ ﺪﻋﺎﺴﻣ     45\n",
       "ﻝﺎﺒﻘﺘﺳﺍ ﻒﻇﻮﻣ    45\n",
       "Name: count, dtype: int64"
      ]
     },
     "execution_count": 615,
     "metadata": {},
     "output_type": "execute_result"
    }
   ],
   "source": [
    "top_ten_most_requir_jop = most_requir_jop.head(5)\n",
    "top_ten_most_requir_jop "
   ]
  },
  {
   "cell_type": "code",
   "execution_count": 631,
   "id": "28e24a69-c898-49d3-b82f-1cf63be6b282",
   "metadata": {},
   "outputs": [
    {
     "data": {
      "image/png": "[encoded data removed]",
      "text/plain": [
       "<Figure size 800x600 with 1 Axes>"
      ]
     },
     "metadata": {},
     "output_type": "display_data"
    }
   ],
   "source": [
    "plt.figure(figsize=(8, 6))\n",
    "plt.bar(top_ten_most_requir_jop.index, top_ten_most_requir_jop.values ,color='#fba0e3')\n",
    "plt.xlabel('Jobs')\n",
    "plt.ylabel('Count')\n",
    "plt.title('Top Ten Of Most Postings Jobs')\n",
    "plt.grid(True)\n",
    "plt.show()"
   ]
  },
  {
   "cell_type": "code",
   "execution_count": 625,
   "id": "04a29ace-a177-4eff-a9a5-ef90e25499f4",
   "metadata": {},
   "outputs": [
    {
     "data": {
      "text/plain": [
       "4859.059649122807"
      ]
     },
     "execution_count": 625,
     "metadata": {},
     "output_type": "execute_result"
    }
   ],
   "source": [
    "#Riyadh avrage salary for fresh graduate\n",
    "salary_df = df[['year of exper' , 'salary']]\n",
    "RIYADH = df[(df['year of exper'] == 0) & (df['city'] == 'RIYADH')]\n",
    "RIYADH['salary'].mean()"
   ]
  },
  {
   "cell_type": "code",
   "execution_count": 629,
   "id": "f97ff572-c0eb-4fa2-b61a-eca7512b3566",
   "metadata": {},
   "outputs": [
    {
     "data": {
      "text/plain": [
       "6056.268445839874"
      ]
     },
     "execution_count": 629,
     "metadata": {},
     "output_type": "execute_result"
    }
   ],
   "source": [
    "#Riyadh avrage salary for fresh experienced\n",
    "experienced_jobs['salary'].mean()"
   ]
  }
 ],
 "metadata": {
  "kernelspec": {
   "display_name": "Python 3 (ipykernel)",
   "language": "python",
   "name": "python3"
  },
  "language_info": {
   "codemirror_mode": {
    "name": "ipython",
    "version": 3
   },
   "file_extension": ".py",
   "mimetype": "text/x-python",
   "name": "python",
   "nbconvert_exporter": "python",
   "pygments_lexer": "ipython3",
   "version": "3.12.4"
  }
 },
 "nbformat": 4,
 "nbformat_minor": 5
}
